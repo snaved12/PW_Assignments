{
 "cells": [
  {
   "cell_type": "markdown",
   "id": "1bdfd03b",
   "metadata": {},
   "source": [
    "Python while loop is used to run a block code until a certain condition is met. Here, A while loop evaluates the condition. If the condition evaluates to True , the code inside the while loop is executed."
   ]
  },
  {
   "cell_type": "code",
   "execution_count": 1,
   "id": "be5bd8fb",
   "metadata": {},
   "outputs": [
    {
     "name": "stdout",
     "output_type": "stream",
     "text": [
      "Enter a number: 100\n",
      "Enter a number: 100\n",
      "Enter a number: 100\n",
      "Enter a number: 100\n",
      "Enter a number: 0\n",
      "total = 400\n"
     ]
    }
   ],
   "source": [
    "# program to calculate the sum of numbers\n",
    "# until the user enters zero\n",
    "\n",
    "total = 0\n",
    "\n",
    "number = int(input('Enter a number: '))\n",
    "\n",
    "# add numbers until number is zero\n",
    "while number != 0:\n",
    "    total += number    # total = total + number\n",
    "    \n",
    "    # take integer input again\n",
    "    number = int(input('Enter a number: '))\n",
    "    \n",
    "\n",
    "print('total =', total)"
   ]
  },
  {
   "cell_type": "code",
   "execution_count": null,
   "id": "4a06b61d",
   "metadata": {},
   "outputs": [],
   "source": []
  }
 ],
 "metadata": {
  "kernelspec": {
   "display_name": "Python 3 (ipykernel)",
   "language": "python",
   "name": "python3"
  },
  "language_info": {
   "codemirror_mode": {
    "name": "ipython",
    "version": 3
   },
   "file_extension": ".py",
   "mimetype": "text/x-python",
   "name": "python",
   "nbconvert_exporter": "python",
   "pygments_lexer": "ipython3",
   "version": "3.11.1"
  }
 },
 "nbformat": 4,
 "nbformat_minor": 5
}
