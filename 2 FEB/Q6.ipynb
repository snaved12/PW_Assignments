{
 "cells": [
  {
   "cell_type": "code",
   "execution_count": 1,
   "id": "c51cf943",
   "metadata": {},
   "outputs": [
    {
     "name": "stdout",
     "output_type": "stream",
     "text": [
      "Enter no of rows\n",
      "6\n",
      "\n",
      "1 \n",
      "2 2 \n",
      "3 3 3 \n",
      "4 4 4 4 \n",
      "5 5 5 5 5 \n"
     ]
    }
   ],
   "source": [
    "print(\"Enter no of rows\")\n",
    "rows = int(input())\n",
    "for i in range(rows):\n",
    "    for j in range(i):\n",
    "        print(i, end=' ')\n",
    "    print('')"
   ]
  },
  {
   "cell_type": "code",
   "execution_count": 2,
   "id": "40cc6c82",
   "metadata": {},
   "outputs": [
    {
     "name": "stdout",
     "output_type": "stream",
     "text": [
      "Enter no of rows\n",
      "7\n",
      "1 \n",
      "1 2 \n",
      "1 2 3 \n",
      "1 2 3 4 \n",
      "1 2 3 4 5 \n",
      "1 2 3 4 5 6 \n",
      "1 2 3 4 5 6 7 \n"
     ]
    }
   ],
   "source": [
    "print(\"Enter no of rows\")\n",
    "rows = int(input())\n",
    "for i in range(1, rows + 1):\n",
    "    for j in range(1, i + 1):\n",
    "        print(j, end=' ')\n",
    "    print('')"
   ]
  },
  {
   "cell_type": "code",
   "execution_count": 3,
   "id": "0f5cc1ad",
   "metadata": {},
   "outputs": [
    {
     "name": "stdout",
     "output_type": "stream",
     "text": [
      "Enter no of rows\n",
      "9\n",
      "1 1 1 1 1 1 1 1 1 \n",
      "2 2 2 2 2 2 2 2 \n",
      "3 3 3 3 3 3 3 \n",
      "4 4 4 4 4 4 \n",
      "5 5 5 5 5 \n",
      "6 6 6 6 \n",
      "7 7 7 \n",
      "8 8 \n",
      "9 \n"
     ]
    }
   ],
   "source": [
    "print(\"Enter no of rows\")\n",
    "rows = int(input())\n",
    "b = 0\n",
    "for i in range(rows, 0, -1):\n",
    "    b += 1\n",
    "    for j in range(1, i + 1):\n",
    "        print(b, end=' ')\n",
    "    print('\\r')"
   ]
  },
  {
   "cell_type": "code",
   "execution_count": null,
   "id": "f7d74d73",
   "metadata": {},
   "outputs": [],
   "source": []
  }
 ],
 "metadata": {
  "kernelspec": {
   "display_name": "Python 3 (ipykernel)",
   "language": "python",
   "name": "python3"
  },
  "language_info": {
   "codemirror_mode": {
    "name": "ipython",
    "version": 3
   },
   "file_extension": ".py",
   "mimetype": "text/x-python",
   "name": "python",
   "nbconvert_exporter": "python",
   "pygments_lexer": "ipython3",
   "version": "3.11.1"
  }
 },
 "nbformat": 4,
 "nbformat_minor": 5
}
