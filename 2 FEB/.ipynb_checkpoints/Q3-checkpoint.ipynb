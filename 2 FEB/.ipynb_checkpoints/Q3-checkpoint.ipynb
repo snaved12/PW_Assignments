{
 "cells": [
  {
   "cell_type": "code",
   "execution_count": 4,
   "id": "5ae04f8a",
   "metadata": {},
   "outputs": [
    {
     "name": "stdout",
     "output_type": "stream",
     "text": [
      "Enter name of City\n",
      "Jaipur\n",
      "The Monument present in Jaipur is Jal Mahal\n"
     ]
    }
   ],
   "source": [
    "print(\"Enter name of City\")\n",
    "city=input()\n",
    "if city==\"Delhi\":\n",
    "    print(\"The Monument present in Delhi is Red Fort\")\n",
    "elif city==\"Agra\":\n",
    "    print(\"The Monument present in Agra is Taj Mahal\")\n",
    "elif city==\"Jaipur\":\n",
    "    print(\"The Monument present in Jaipur is Jal Mahal\")\n",
    "else:\n",
    "    print(\"Enter a Valid city!!\")"
   ]
  },
  {
   "cell_type": "code",
   "execution_count": null,
   "id": "9525b47f",
   "metadata": {},
   "outputs": [],
   "source": []
  }
 ],
 "metadata": {
  "kernelspec": {
   "display_name": "Python 3 (ipykernel)",
   "language": "python",
   "name": "python3"
  },
  "language_info": {
   "codemirror_mode": {
    "name": "ipython",
    "version": 3
   },
   "file_extension": ".py",
   "mimetype": "text/x-python",
   "name": "python",
   "nbconvert_exporter": "python",
   "pygments_lexer": "ipython3",
   "version": "3.11.1"
  }
 },
 "nbformat": 4,
 "nbformat_minor": 5
}
