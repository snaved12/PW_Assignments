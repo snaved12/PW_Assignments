{
 "cells": [
  {
   "cell_type": "code",
   "execution_count": 6,
   "id": "d460a157",
   "metadata": {},
   "outputs": [
    {
     "name": "stdout",
     "output_type": "stream",
     "text": [
      "Enter Marks\n",
      "-5\n",
      "GRADE D\n"
     ]
    }
   ],
   "source": [
    "print(\"Enter Marks\")\n",
    "marks=float(input())\n",
    "if marks>90:\n",
    "    print(\"GRADE A\")\n",
    "elif marks<=90 and marks>80:\n",
    "    print(\"GRADE B\")\n",
    "elif marks>=60 and marks<=80:\n",
    "    print(\"GRADE C\")  \n",
    "elif marks<60:\n",
    "    print(\"GRADE D\")\n",
    "else:\n",
    "    print(\"Enter valid marks\")"
   ]
  },
  {
   "cell_type": "code",
   "execution_count": null,
   "id": "b5b34eb2",
   "metadata": {},
   "outputs": [],
   "source": []
  }
 ],
 "metadata": {
  "kernelspec": {
   "display_name": "Python 3 (ipykernel)",
   "language": "python",
   "name": "python3"
  },
  "language_info": {
   "codemirror_mode": {
    "name": "ipython",
    "version": 3
   },
   "file_extension": ".py",
   "mimetype": "text/x-python",
   "name": "python",
   "nbconvert_exporter": "python",
   "pygments_lexer": "ipython3",
   "version": "3.11.1"
  }
 },
 "nbformat": 4,
 "nbformat_minor": 5
}
