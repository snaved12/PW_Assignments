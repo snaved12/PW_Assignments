{
 "cells": [
  {
   "cell_type": "markdown",
   "id": "6df17bd5",
   "metadata": {},
   "source": [
    "Q1"
   ]
  },
  {
   "cell_type": "markdown",
   "id": "63de33b3",
   "metadata": {},
   "source": [
    "Loops are the most powerful and basic concept in computer programming. A loop is an instruction that executes a statement until a specific condition is reached. The number of times the loop repeats itself is known as iteration. Some loop controlling statements are break and continue. Various types of loops are for, while, do while, etc. Every programming language, including C, C++, Java, Python, etc., has the concept of a loop.\n",
    "\n",
    "For loop: A for loop is a control flow statement that executes code repeatedly for a particular number of iterations. In this control flow statement, the keyword used is for. The for loop is used when the number of iterations is already known.\n",
    "The for loop has two parts:\n",
    "\n",
    "Header: The header part specifies the iteration of the loop. In this part, the loop variable is also declared, which tells the body which iteration is executed.\n",
    "Body: This part contains the statement executed per iteration.\n",
    "\n",
    "While loop: A loop that executes a single statement or a group of statements for the given true condition. The keyword used to represent this loop is \"while\". A \"while\" loop is used when the number of iterations is unknown. The statement repeats itself till the boolean value becomes false. In a while loop, the condition is tested at the start, also known as the pre-test loop"
   ]
  },
  {
   "cell_type": "code",
   "execution_count": 1,
   "id": "50e47023",
   "metadata": {},
   "outputs": [
    {
     "name": "stdout",
     "output_type": "stream",
     "text": [
      "apple\n",
      "banana\n",
      "cherry\n"
     ]
    }
   ],
   "source": [
    "fruits = [\"apple\", \"banana\", \"cherry\"]\n",
    "for x in fruits:\n",
    "  print(x)"
   ]
  },
  {
   "cell_type": "code",
   "execution_count": 2,
   "id": "79b89265",
   "metadata": {},
   "outputs": [
    {
     "name": "stdout",
     "output_type": "stream",
     "text": [
      "1\n",
      "2\n",
      "3\n",
      "4\n",
      "5\n"
     ]
    }
   ],
   "source": [
    "i = 1\n",
    "while i < 6:\n",
    "  print(i)\n",
    "  i += 1"
   ]
  },
  {
   "cell_type": "markdown",
   "id": "10a3f3b5",
   "metadata": {},
   "source": [
    "Q2"
   ]
  },
  {
   "cell_type": "code",
   "execution_count": 6,
   "id": "ae108734",
   "metadata": {},
   "outputs": [
    {
     "name": "stdout",
     "output_type": "stream",
     "text": [
      "The sum is: 55\n",
      "The product is: 3628800\n"
     ]
    }
   ],
   "source": [
    "sum = 0 \n",
    "product=1\n",
    "for i in range(1, 11): \n",
    "  sum += i\n",
    "  product=product*i\n",
    "print(\"The sum is:\",sum)\n",
    "print(\"The product is:\",product)"
   ]
  },
  {
   "cell_type": "code",
   "execution_count": 10,
   "id": "751bba50",
   "metadata": {},
   "outputs": [
    {
     "name": "stdout",
     "output_type": "stream",
     "text": [
      "The sum is 55\n",
      "The product is 3628800\n"
     ]
    }
   ],
   "source": [
    "sum = 0\n",
    "pro=1\n",
    "num=10\n",
    "while(num > 0):\n",
    "    sum += num\n",
    "    pro=pro*num\n",
    "    num -= 1\n",
    "print(\"The sum is\", sum)\n",
    "print(\"The product is\", pro)"
   ]
  },
  {
   "cell_type": "markdown",
   "id": "b6fbc0af",
   "metadata": {},
   "source": [
    "Q3"
   ]
  },
  {
   "cell_type": "code",
   "execution_count": 13,
   "id": "db8335d5",
   "metadata": {},
   "outputs": [
    {
     "name": "stdout",
     "output_type": "stream",
     "text": [
      "Enter your unit consumed in a month: 450\n",
      "The bill is: 9000\n"
     ]
    }
   ],
   "source": [
    "unit = int(input(\"Enter your unit consumed in a month: \"))\n",
    "if unit <= 100:\n",
    "    bill = unit * 4.5\n",
    "elif unit >= 101 and unit <= 200:\n",
    "    bill = 450 + ((unit - 100) * 6)\n",
    "elif unit >= 201 and unit <= 300:\n",
    "    bill = 450 + 600 + ((unit - 200) * 10)\n",
    "else:\n",
    "    bill = 20*unit\n",
    "print(\"The bill is:\",bill)"
   ]
  },
  {
   "cell_type": "markdown",
   "id": "2307a7db",
   "metadata": {},
   "source": [
    "Q4"
   ]
  },
  {
   "cell_type": "code",
   "execution_count": 1,
   "id": "a02b1fe2",
   "metadata": {},
   "outputs": [
    {
     "name": "stdout",
     "output_type": "stream",
     "text": [
      "[8, 64, 125, 216, 512, 1000, 1728, 2744, 3375, 4096, 5832, 8000, 10648, 13824, 15625, 17576, 21952, 27000, 32768, 39304, 42875, 46656, 54872, 64000, 74088, 85184, 91125, 97336, 110592, 125000, 140608, 157464, 166375, 175616, 195112, 216000, 238328, 262144, 274625, 287496, 314432, 343000, 373248, 405224, 421875, 438976, 474552, 512000, 551368, 592704, 614125, 636056, 681472, 729000, 778688, 830584, 857375, 884736, 941192, 1000000]\n"
     ]
    }
   ],
   "source": [
    "lst = list(range(1,101))\n",
    "res = []\n",
    "res_1=[]\n",
    "for i in lst:\n",
    "    res.append(i*i*i)\n",
    "i=0    \n",
    "while i<len(res):\n",
    "    if res[i]%4==0 or res[i]%5==0:\n",
    "        res_1.append(res[i])\n",
    "    i=i+1\n",
    "print(res_1) \n"
   ]
  },
  {
   "cell_type": "markdown",
   "id": "11243861",
   "metadata": {},
   "source": [
    "Q5"
   ]
  },
  {
   "cell_type": "code",
   "execution_count": 2,
   "id": "ab712af4",
   "metadata": {},
   "outputs": [
    {
     "name": "stdout",
     "output_type": "stream",
     "text": [
      "Number of vowels in the given string is:  12\n"
     ]
    }
   ],
   "source": [
    "example = \"I want to become a data scientist\"\n",
    "count = 0\n",
    "i = 0\n",
    "for i in range(len(example)):\n",
    "    if (\n",
    "        (example[i] == \"a\" or example[i]== \"A\")\n",
    "        or (example[i] == \"e\" or example[i]== \"E\")\n",
    "        or (example[i] == \"i\" or example[i]== \"I\")\n",
    "        or (example[i] == \"o\" or example[i]== \"O\")\n",
    "        or (example[i] == \"u\" or example[i]== \"U\")\n",
    "    ):\n",
    "        count += 1\n",
    "print(\"Number of vowels in the given string is: \", count)"
   ]
  },
  {
   "cell_type": "code",
   "execution_count": null,
   "id": "d0358eeb",
   "metadata": {},
   "outputs": [],
   "source": []
  }
 ],
 "metadata": {
  "kernelspec": {
   "display_name": "Python 3 (ipykernel)",
   "language": "python",
   "name": "python3"
  },
  "language_info": {
   "codemirror_mode": {
    "name": "ipython",
    "version": 3
   },
   "file_extension": ".py",
   "mimetype": "text/x-python",
   "name": "python",
   "nbconvert_exporter": "python",
   "pygments_lexer": "ipython3",
   "version": "3.11.1"
  }
 },
 "nbformat": 4,
 "nbformat_minor": 5
}
