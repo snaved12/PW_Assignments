{
 "cells": [
  {
   "cell_type": "markdown",
   "id": "593c742d",
   "metadata": {},
   "source": []
  },
  {
   "cell_type": "markdown",
   "id": "92554b17",
   "metadata": {},
   "source": [
    "1. Who Developed Python programming language?\n",
    "\n",
    "A. Guido van Rossum"
   ]
  },
  {
   "cell_type": "markdown",
   "id": "41a77894",
   "metadata": {},
   "source": [
    "2. Which type of programming does python support?\n",
    "\n",
    "A. Python is a multi-paradigm programming language. Object-oriented programming and structured programming are fully supported"
   ]
  },
  {
   "cell_type": "markdown",
   "id": "be61a449",
   "metadata": {},
   "source": [
    "3. Is python case sesnsitive when dealing with identifiers?\n",
    "\n",
    "A. Yes, Python is a case-sensitive language, i.e., it treats uppercase and lowercase characters differently. This applies to identifiers too. You must avoid using the same name with different cases while naming identifiers."
   ]
  },
  {
   "cell_type": "markdown",
   "id": "fce8e300",
   "metadata": {},
   "source": [
    "4. What is correct extension of python file?\n",
    "\n",
    "A. The extensions for Python files are - .py, .pyi, .pyc, .pyd, .pyo, .pyw, and .pyz."
   ]
  },
  {
   "cell_type": "markdown",
   "id": "78cb8673",
   "metadata": {},
   "source": [
    "5. Is python code compiled or interpreted?\n",
    "\n",
    "A. Interpreted"
   ]
  },
  {
   "cell_type": "markdown",
   "id": "c8ec16c8",
   "metadata": {},
   "source": [
    "6. Name a few blocks of code used to define python language?\n",
    "\n",
    "A. The following are blocks: a module, a function body, and a class definition. Each command typed interactively is a block. A script file (a file given as standard input to the interpreter or specified as a command line argument to the interpreter) is a code block."
   ]
  },
  {
   "cell_type": "markdown",
   "id": "6689bc8e",
   "metadata": {},
   "source": [
    "7. State a charecter use dto give single line comments in python?\n",
    "\n",
    "A. #"
   ]
  },
  {
   "cell_type": "markdown",
   "id": "d9f560ee",
   "metadata": {},
   "source": [
    " 8. Mention functions which can help us to find the version of python that we are currently working on?\n",
    " \n",
    " A. The function sys. version can help us to find the version of python that we are currently working on."
   ]
  },
  {
   "cell_type": "markdown",
   "id": "f23d9a4d",
   "metadata": {},
   "source": [
    "9. Python supports the creation of anonymous functions at runtime, using a construct called\n",
    "\n",
    "A. Python supports to make anonymous functions which are not bound to a name(@ runtime). It uses a construct called \"lambda\"."
   ]
  },
  {
   "cell_type": "markdown",
   "id": "e158ed67",
   "metadata": {},
   "source": [
    "10. What does pip stand for python? \n",
    "\n",
    "\n",
    "A. PIP is a recursive acronym for “Preferred Installer Program” or PIP Installs Packages. It is a command-line utility that installs, reinstalls, or uninstalls PyPI packages with one simple command: pip"
   ]
  },
  {
   "cell_type": "markdown",
   "id": "4346ff3e",
   "metadata": {},
   "source": [
    "11. Mention a few built-in functions in python?\n",
    "\n",
    "A. Python Built-in Functions\n",
    "print( ) function.\n",
    "type( ) function.\n",
    "input( ) function.\n",
    "abs( ) function.\n",
    "pow( ) function.\n",
    "dir( ) function.\n",
    "sorted( ) function.\n",
    "max( ) function."
   ]
  },
  {
   "cell_type": "markdown",
   "id": "891a8af8",
   "metadata": {},
   "source": [
    "12. What is the maximum possible length of an identifier in Python?\n",
    "\n",
    "A.  An identifier can have a maximum length of 79 characters in Python. Python is one of the most popular programming languages."
   ]
  },
  {
   "cell_type": "markdown",
   "id": "af11e408",
   "metadata": {},
   "source": [
    "13. What are the benefits of using Python?\n",
    "\n",
    "A. Top Reasons to Learn Python\n",
    "Data science.\n",
    "Scientific and mathematical computing.\n",
    "Web development.\n",
    "Finance and trading.\n",
    "System automation and administration.\n",
    "Computer graphics.\n",
    "Basic game development.\n",
    "Security and penetration testing."
   ]
  },
  {
   "cell_type": "markdown",
   "id": "15fb5b1b",
   "metadata": {},
   "source": [
    "14. How is memory managed in Python?\n",
    "\n",
    "A. Memory management in Python involves a private heap containing all Python objects and data structures. The management of this private heap is ensured internally by the Python memory manager."
   ]
  },
  {
   "cell_type": "markdown",
   "id": "43130668",
   "metadata": {},
   "source": [
    "15. How to install Python on Windows and set path variables?\n",
    "\n",
    "A. The complete path of python.exe can be added by:\n",
    "\n",
    "Right-clicking This PC and going to Properties.\n",
    "\n",
    "Clicking on the Advanced system settings in the menu on the left.\n",
    "\n",
    "Clicking on the Environment Variables button o​n the bottom right.\n",
    "\n",
    "In the System variables section, selecting the Path variable and clicking on Edit. The next screen will show all the directories that are currently a part of the PATH variable.\n",
    "\n",
    "Clicking on New and entering Python’s install directory."
   ]
  },
  {
   "cell_type": "markdown",
   "id": "4702a763",
   "metadata": {},
   "source": [
    "16. is indentation required in python?\n",
    "\n",
    "A. Indentation is mandatory in python to define the blocks of statements. The number of spaces must be uniform in a block of code. It is preferred to use whitespaces instead of tabs to indent in python"
   ]
  },
  {
   "cell_type": "code",
   "execution_count": null,
   "id": "16fed5ad",
   "metadata": {},
   "outputs": [],
   "source": []
  }
 ],
 "metadata": {
  "kernelspec": {
   "display_name": "Python 3 (ipykernel)",
   "language": "python",
   "name": "python3"
  },
  "language_info": {
   "codemirror_mode": {
    "name": "ipython",
    "version": 3
   },
   "file_extension": ".py",
   "mimetype": "text/x-python",
   "name": "python",
   "nbconvert_exporter": "python",
   "pygments_lexer": "ipython3",
   "version": "3.11.1"
  }
 },
 "nbformat": 4,
 "nbformat_minor": 5
}
