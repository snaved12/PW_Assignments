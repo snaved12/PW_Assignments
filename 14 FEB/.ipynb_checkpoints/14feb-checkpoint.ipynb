{
 "cells": [
  {
   "cell_type": "markdown",
   "id": "87c4c839",
   "metadata": {},
   "source": [
    "Q1"
   ]
  },
  {
   "cell_type": "markdown",
   "id": "206ab198",
   "metadata": {},
   "source": [
    "Multithreading in Python refers to the process of executing multiple threads simultaneously within a single program. A thread is a lightweight sub-process that can run concurrently with other threads within the same process. Multithreading is used to improve the performance of a program by allowing it to perform multiple tasks concurrently.\n",
    "\n",
    "In Python, the threading module is used to handle threads. It provides a way to create, start, and manage threads in a program. The threading module allows the creation of both simple and complex threads, and it also provides synchronization primitives such as locks, semaphores, and events, which can be used to control access to shared resources and coordinate the execution of threads."
   ]
  },
  {
   "cell_type": "markdown",
   "id": "fe0f2237",
   "metadata": {},
   "source": [
    "Q2"
   ]
  },
  {
   "cell_type": "markdown",
   "id": "c1bcbb65",
   "metadata": {},
   "source": [
    "The threading module in Python is used to create and manage threads in a program. It provides a high-level interface for working with threads and synchronization primitives.\n",
    "\n",
    "The following are the uses of the functions in the threading module:\n",
    "\n",
    "activeCount(): This function returns the number of Thread objects that are currently active in the current thread's process. It can be used to monitor the number of active threads in a program and take action if the number exceeds a certain limit.\n",
    "\n",
    "currentThread(): This function returns a reference to the currently executing Thread object. It can be used to get information about the currently running thread, such as its name and thread ID.\n",
    "\n",
    "enumerate(): This function returns a list of all active Thread objects in the current thread's process. It can be used to get information about all the threads that are currently running in a program. The list can be filtered to include only specific types of threads or threads with certain attributes."
   ]
  },
  {
   "cell_type": "markdown",
   "id": "f74f19b8",
   "metadata": {},
   "source": [
    "Q3"
   ]
  },
  {
   "cell_type": "markdown",
   "id": "91b29780",
   "metadata": {},
   "source": [
    "The following are the functions commonly used with threads in Python:\n",
    "\n",
    "run(): This method is called when a Thread object is started using the start() method. The run() method contains the code that will be executed in the thread.\n",
    "\n",
    "start(): This method starts the execution of a Thread object. When called, it creates a new thread of execution and calls the run() method of the Thread object in the new thread.\n",
    "\n",
    "join(): This method waits for the thread to complete its execution. When called on a Thread object, the calling thread is blocked until the called thread completes its execution. This method is used to synchronize the execution of multiple threads.\n",
    "\n",
    "isAlive(): This method returns a boolean value indicating whether the thread is currently executing. It returns True if the thread is still running and False otherwise. This method can be used to check the status of a thread and take action based on its current state.\n",
    "\n",
    "In summary, run() contains the code that will be executed in the thread, start() starts the thread execution, join() waits for the thread to complete its execution and isAlive() checks whether the thread is currently running."
   ]
  },
  {
   "cell_type": "markdown",
   "id": "4b679268",
   "metadata": {},
   "source": [
    "Q4"
   ]
  },
  {
   "cell_type": "code",
   "execution_count": 4,
   "id": "09d86a0b",
   "metadata": {},
   "outputs": [
    {
     "name": "stdout",
     "output_type": "stream",
     "text": [
      "Square of 1 is 1\n",
      "Square of 2 is 4\n",
      "Square of 3 is 9\n",
      "Square of 4 is 16\n",
      "Square of 5 is 25\n",
      "Square of 6 is 36\n",
      "Square of 7 is 49\n",
      "Square of 8 is 64\n",
      "Square of 9 is 81\n",
      "Square of 10 is 100\n",
      "Cube of 1 is 1\n",
      "Cube of 2 is 8\n",
      "Cube of 3 is 27\n",
      "Cube of 4 is 64\n",
      "Cube of 5 is 125\n",
      "Cube of 6 is 216\n",
      "Cube of 7 is 343\n",
      "Cube of 8 is 512\n",
      "Cube of 9 is 729\n",
      "Cube of 10 is 1000\n",
      "Done.\n"
     ]
    }
   ],
   "source": [
    "import threading\n",
    "\n",
    "def print_squares():\n",
    "    for i in range(1, 11):\n",
    "        print(f\"Square of {i} is {i*i}\")\n",
    "\n",
    "def print_cubes():\n",
    "    for i in range(1, 11):\n",
    "        print(f\"Cube of {i} is {i*i*i}\")\n",
    "\n",
    "# Create the threads\n",
    "t1 = threading.Thread(target=print_squares)\n",
    "t2 = threading.Thread(target=print_cubes)\n",
    "\n",
    "# Start the threads\n",
    "t1.start()\n",
    "t2.start()\n",
    "\n",
    "# Wait for the threads to complete their execution\n",
    "t1.join()\n",
    "t2.join()\n",
    "\n",
    "print(\"Done.\")\n"
   ]
  },
  {
   "cell_type": "markdown",
   "id": "e1157402",
   "metadata": {},
   "source": [
    "Q5"
   ]
  },
  {
   "cell_type": "markdown",
   "id": "95faa3ed",
   "metadata": {},
   "source": [
    "Multithreading in a program can have the following advantages and disadvantages:\n",
    "\n",
    "Advantages:\n",
    "\n",
    "Improved performance: Multithreading can improve the performance of a program by allowing it to execute multiple tasks simultaneously. This can lead to faster completion of tasks and improved throughput.\n",
    "\n",
    "Better resource utilization: Multithreading can help to better utilize system resources such as CPU and memory by allowing different parts of a program to execute concurrently.\n",
    "\n",
    "Enhanced responsiveness: Multithreading can make a program more responsive by allowing it to continue executing other tasks while waiting for I/O operations or other blocking operations to complete.\n",
    "\n",
    "Better modularization: Multithreading can help to modularize a program by allowing different parts of the program to execute independently in their own threads. This can make the program more organized and easier to maintain.\n",
    "\n",
    "Disadvantages:\n",
    "\n",
    "Complexity: Multithreading can add complexity to a program by introducing issues such as synchronization, deadlocks, and race conditions. These issues can be difficult to debug and resolve.\n",
    "\n",
    "Increased memory usage: Multithreading can increase the memory usage of a program by requiring additional resources to manage the threads and their associated data structures.\n",
    "\n",
    "Difficulty in debugging: Multithreaded programs can be difficult to debug as the behavior of a program can be affected by the timing and interaction of multiple threads.\n",
    "\n",
    "Inefficiency: In some cases, multithreading can lead to inefficiency due to overheads associated with thread creation and synchronization.\n",
    "\n",
    "In summary, multithreading can provide significant benefits in terms of performance, responsiveness, and resource utilization. However, it can also introduce complexity and potential issues that need to be carefully managed and addressed."
   ]
  },
  {
   "cell_type": "markdown",
   "id": "69bea575",
   "metadata": {},
   "source": [
    "Q6"
   ]
  },
  {
   "cell_type": "markdown",
   "id": "fd207256",
   "metadata": {},
   "source": [
    "Deadlocks and race conditions are two common issues that can occur in multithreaded programs. Here's a brief explanation of each:\n",
    "\n",
    "Deadlock: A deadlock occurs when two or more threads are waiting for each other to release a resource, resulting in a situation where none of the threads can proceed. This can happen when two threads acquire different resources in a different order, causing each thread to wait for the other to release its resource. Deadlocks can be difficult to detect and resolve, and can cause a program to hang indefinitely.\n",
    "\n",
    "Race condition: A race condition occurs when two or more threads access a shared resource simultaneously, resulting in unpredictable behavior. This can happen when multiple threads try to modify the same data at the same time, or when one thread reads data while another thread is writing to it. Race conditions can cause data corruption, crashes, and other unexpected behavior.\n",
    "\n",
    "To avoid these issues, it is important to use proper synchronization techniques in multithreaded programs. For example, locks and semaphores can be used to prevent multiple threads from accessing a shared resource simultaneously, and condition variables can be used to allow threads to wait for certain conditions to be met before proceeding. It is also important to carefully design the program to avoid situations that can lead to deadlocks, such as ensuring that threads acquire resources in a consistent order."
   ]
  },
  {
   "cell_type": "code",
   "execution_count": null,
   "id": "149657ff",
   "metadata": {},
   "outputs": [],
   "source": []
  }
 ],
 "metadata": {
  "kernelspec": {
   "display_name": "Python 3 (ipykernel)",
   "language": "python",
   "name": "python3"
  },
  "language_info": {
   "codemirror_mode": {
    "name": "ipython",
    "version": 3
   },
   "file_extension": ".py",
   "mimetype": "text/x-python",
   "name": "python",
   "nbconvert_exporter": "python",
   "pygments_lexer": "ipython3",
   "version": "3.11.1"
  }
 },
 "nbformat": 4,
 "nbformat_minor": 5
}
