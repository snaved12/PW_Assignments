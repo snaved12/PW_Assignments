{
 "cells": [
  {
   "cell_type": "markdown",
   "id": "5d8a474e",
   "metadata": {},
   "source": [
    "Q1"
   ]
  },
  {
   "cell_type": "markdown",
   "id": "a06d8c5f",
   "metadata": {},
   "source": [
    "A database is a structured collection of data that can be easily accessed, managed, and updated. Databases are used in various applications, including websites, mobile apps, and enterprise systems, to store and retrieve data efficiently.\n",
    "\n",
    "SQL and NoSQL are two broad categories of databases that differ in their data model, storage, and query languages. Here are the key differences between them:\n",
    "\n",
    "Data model: SQL databases are based on the relational data model, where data is organized into tables with predefined columns and rows. Each row represents a single record, and each column represents a specific attribute of that record. NoSQL databases, on the other hand, use various data models, such as key-value, document, column-family, or graph, to store data in a more flexible and scalable way.\n",
    "\n",
    "Schema: SQL databases have a predefined schema, which defines the structure of the data, the data types, and the relationships between tables. This means that any data inserted into the database must conform to the schema. NoSQL databases, on the other hand, do not have a fixed schema and can accommodate different types of data with varying structures.\n",
    "\n",
    "Query language: SQL databases use SQL (Structured Query Language) to retrieve, update, and delete data from tables. SQL is a standardized language that is widely used and understood by database developers and administrators. NoSQL databases use different query languages, depending on their data model. For example, MongoDB, a document-based NoSQL database, uses a query language called MongoDB Query Language (MQL).\n",
    "\n",
    "Scalability: NoSQL databases are designed to scale horizontally, meaning that they can handle large amounts of data and traffic by adding more servers to a cluster. SQL databases can also scale, but they typically require more complex setup and maintenance to achieve high scalability.\n",
    "\n",
    "ACID compliance: SQL databases are generally ACID (Atomicity, Consistency, Isolation, and Durability) compliant, which means that they ensure data consistency and reliability even in the face of system failures or concurrent transactions. NoSQL databases, however, sacrifice some ACID properties in favor of scalability and performance.\n",
    "\n",
    "In summary, SQL databases are ideal for applications that require strict data consistency and complex querying capabilities, while NoSQL databases are better suited for applications that require high scalability and flexibility in data modeling."
   ]
  },
  {
   "cell_type": "markdown",
   "id": "2f5ed16a",
   "metadata": {},
   "source": [
    "Q2"
   ]
  },
  {
   "cell_type": "markdown",
   "id": "a5edf696",
   "metadata": {},
   "source": [
    "DDL stands for Data Definition Language, which is a set of SQL statements used to create, modify, and delete database objects such as tables, views, indexes, and constraints. Here are the explanations of the most commonly used DDL statements:\n",
    "\n",
    "CREATE: The CREATE statement is used to create a new database object, such as a table or view. For example, to create a new table called \"employees\" with columns for employee ID, name, and salary, you would use the following SQL statement:"
   ]
  },
  {
   "cell_type": "code",
   "execution_count": 1,
   "id": "c513f729",
   "metadata": {},
   "outputs": [
    {
     "ename": "SyntaxError",
     "evalue": "invalid syntax (550631248.py, line 1)",
     "output_type": "error",
     "traceback": [
      "\u001b[1;36m  Cell \u001b[1;32mIn[1], line 1\u001b[1;36m\u001b[0m\n\u001b[1;33m    CREATE TABLE employees (\u001b[0m\n\u001b[1;37m           ^\u001b[0m\n\u001b[1;31mSyntaxError\u001b[0m\u001b[1;31m:\u001b[0m invalid syntax\n"
     ]
    }
   ],
   "source": [
    "CREATE TABLE employees (\n",
    "   employee_id INT PRIMARY KEY,\n",
    "   name VARCHAR(50),\n",
    "   salary DECIMAL(10,2)\n",
    ");\n"
   ]
  },
  {
   "cell_type": "markdown",
   "id": "88494a98",
   "metadata": {},
   "source": [
    "DROP: The DROP statement is used to remove a database object, such as a table or view. For example, to drop the \"employees\" table created in the previous example, you would use the following SQL statement:"
   ]
  },
  {
   "cell_type": "code",
   "execution_count": 2,
   "id": "779526e8",
   "metadata": {},
   "outputs": [
    {
     "ename": "SyntaxError",
     "evalue": "invalid syntax (2684281191.py, line 1)",
     "output_type": "error",
     "traceback": [
      "\u001b[1;36m  Cell \u001b[1;32mIn[2], line 1\u001b[1;36m\u001b[0m\n\u001b[1;33m    DROP TABLE employees;\u001b[0m\n\u001b[1;37m         ^\u001b[0m\n\u001b[1;31mSyntaxError\u001b[0m\u001b[1;31m:\u001b[0m invalid syntax\n"
     ]
    }
   ],
   "source": [
    "DROP TABLE employees;\n"
   ]
  },
  {
   "cell_type": "markdown",
   "id": "4738eb38",
   "metadata": {},
   "source": [
    "ALTER: The ALTER statement is used to modify the structure of an existing database object, such as adding a new column to a table or renaming a column. For example, to add a new column called \"department\" to the \"employees\" table, you would use the following SQL statement:"
   ]
  },
  {
   "cell_type": "code",
   "execution_count": 3,
   "id": "8bca8526",
   "metadata": {},
   "outputs": [
    {
     "ename": "SyntaxError",
     "evalue": "invalid syntax (292028256.py, line 1)",
     "output_type": "error",
     "traceback": [
      "\u001b[1;36m  Cell \u001b[1;32mIn[3], line 1\u001b[1;36m\u001b[0m\n\u001b[1;33m    ALTER TABLE employees ADD department VARCHAR(50);\u001b[0m\n\u001b[1;37m          ^\u001b[0m\n\u001b[1;31mSyntaxError\u001b[0m\u001b[1;31m:\u001b[0m invalid syntax\n"
     ]
    }
   ],
   "source": [
    "ALTER TABLE employees ADD department VARCHAR(50);\n"
   ]
  },
  {
   "cell_type": "markdown",
   "id": "5899813e",
   "metadata": {},
   "source": [
    "TRUNCATE: The TRUNCATE statement is used to delete all data from a table while keeping its structure intact. For example, to remove all data from the \"employees\" table, you would use the following SQL statement:"
   ]
  },
  {
   "cell_type": "code",
   "execution_count": 4,
   "id": "0e1109b7",
   "metadata": {},
   "outputs": [
    {
     "ename": "SyntaxError",
     "evalue": "invalid syntax (2483127573.py, line 1)",
     "output_type": "error",
     "traceback": [
      "\u001b[1;36m  Cell \u001b[1;32mIn[4], line 1\u001b[1;36m\u001b[0m\n\u001b[1;33m    TRUNCATE TABLE employees;\u001b[0m\n\u001b[1;37m             ^\u001b[0m\n\u001b[1;31mSyntaxError\u001b[0m\u001b[1;31m:\u001b[0m invalid syntax\n"
     ]
    }
   ],
   "source": [
    "TRUNCATE TABLE employees;\n",
    "\n"
   ]
  },
  {
   "cell_type": "markdown",
   "id": "15c0c9cc",
   "metadata": {},
   "source": [
    "In summary, DDL statements are used to define and manipulate the structure of database objects. The CREATE statement is used to create new objects, the DROP statement is used to delete existing objects, the ALTER statement is used to modify existing objects, and the TRUNCATE statement is used to delete data from a table."
   ]
  },
  {
   "cell_type": "markdown",
   "id": "b9d71af5",
   "metadata": {},
   "source": [
    "Q3"
   ]
  },
  {
   "cell_type": "markdown",
   "id": "81341e24",
   "metadata": {},
   "source": [
    "DML stands for Data Manipulation Language, which is a set of SQL statements used to insert, update, and delete data in a database. Here are the explanations of the most commonly used DML statements:\n",
    "\n",
    "INSERT: The INSERT statement is used to add new data to a table. For example, to insert a new record with employee ID, name, and salary values into the \"employees\" table, you would use the following SQL statement:"
   ]
  },
  {
   "cell_type": "code",
   "execution_count": 5,
   "id": "89ba381c",
   "metadata": {},
   "outputs": [
    {
     "ename": "SyntaxError",
     "evalue": "invalid syntax (219122839.py, line 1)",
     "output_type": "error",
     "traceback": [
      "\u001b[1;36m  Cell \u001b[1;32mIn[5], line 1\u001b[1;36m\u001b[0m\n\u001b[1;33m    INSERT INTO employees (employee_id, name, salary) VALUES (1, 'John Smith', 50000);\u001b[0m\n\u001b[1;37m           ^\u001b[0m\n\u001b[1;31mSyntaxError\u001b[0m\u001b[1;31m:\u001b[0m invalid syntax\n"
     ]
    }
   ],
   "source": [
    "INSERT INTO employees (employee_id, name, salary) VALUES (1, 'John Smith', 50000);\n"
   ]
  },
  {
   "cell_type": "markdown",
   "id": "431cb5b6",
   "metadata": {},
   "source": [
    "This will insert a new record with employee ID 1, name \"John Smith\", and salary $50,000 into the \"employees\" table.\n",
    "\n",
    "UPDATE: The UPDATE statement is used to modify existing data in a table. For example, to update the salary of an employee with employee ID 1 to $60,000, you would use the following SQL statement:"
   ]
  },
  {
   "cell_type": "code",
   "execution_count": 6,
   "id": "5fc49b43",
   "metadata": {},
   "outputs": [
    {
     "ename": "SyntaxError",
     "evalue": "invalid syntax (724075605.py, line 1)",
     "output_type": "error",
     "traceback": [
      "\u001b[1;36m  Cell \u001b[1;32mIn[6], line 1\u001b[1;36m\u001b[0m\n\u001b[1;33m    UPDATE employees SET salary = 60000 WHERE employee_id = 1;\u001b[0m\n\u001b[1;37m           ^\u001b[0m\n\u001b[1;31mSyntaxError\u001b[0m\u001b[1;31m:\u001b[0m invalid syntax\n"
     ]
    }
   ],
   "source": [
    "UPDATE employees SET salary = 60000 WHERE employee_id = 1;\n"
   ]
  },
  {
   "cell_type": "markdown",
   "id": "1aa19ec8",
   "metadata": {},
   "source": [
    "This will update the salary of the employee with employee ID 1 to $60,000 in the \"employees\" table.\n",
    "\n",
    "DELETE: The DELETE statement is used to remove data from a table. For example, to delete the record of an employee with employee ID 1 from the \"employees\" table, you would use the following SQL statement:"
   ]
  },
  {
   "cell_type": "markdown",
   "id": "68e8ee8b",
   "metadata": {},
   "source": [
    "DELETE FROM employees WHERE employee_id = 1;\n",
    "\n"
   ]
  },
  {
   "cell_type": "markdown",
   "id": "2b64afbd",
   "metadata": {},
   "source": [
    "This will remove the record of the employee with employee ID 1 from the \"employees\" table.\n",
    "\n",
    "In summary, DML statements are used to manipulate data in a database. The INSERT statement is used to add new data, the UPDATE statement is used to modify existing data, and the DELETE statement is used to remove data from a table."
   ]
  },
  {
   "cell_type": "markdown",
   "id": "8a210015",
   "metadata": {},
   "source": [
    "Q4"
   ]
  },
  {
   "cell_type": "markdown",
   "id": "7f6083d0",
   "metadata": {},
   "source": [
    "DQL stands for Data Query Language, which is a set of SQL statements used to retrieve data from a database. The most commonly used DQL statement is the SELECT statement, which is used to query data from one or more tables in a database. Here's an example of how to use the SELECT statement:\n",
    "\n",
    "Let's say we have a table called \"employees\" that has columns for employee ID, name, and salary. To retrieve all the records in the \"employees\" table, we would use the following SQL statement:"
   ]
  },
  {
   "cell_type": "code",
   "execution_count": 7,
   "id": "cb87a463",
   "metadata": {},
   "outputs": [
    {
     "ename": "SyntaxError",
     "evalue": "invalid syntax (2194159167.py, line 1)",
     "output_type": "error",
     "traceback": [
      "\u001b[1;36m  Cell \u001b[1;32mIn[7], line 1\u001b[1;36m\u001b[0m\n\u001b[1;33m    SELECT * FROM employees;\u001b[0m\n\u001b[1;37m                  ^\u001b[0m\n\u001b[1;31mSyntaxError\u001b[0m\u001b[1;31m:\u001b[0m invalid syntax\n"
     ]
    }
   ],
   "source": [
    "SELECT * FROM employees;\n"
   ]
  },
  {
   "cell_type": "markdown",
   "id": "1e2f80c6",
   "metadata": {},
   "source": [
    "This will return all the records in the \"employees\" table, with each record displaying values for the employee ID, name, and salary columns.\n",
    "\n",
    "We can also use the SELECT statement to retrieve specific records that meet certain criteria. For example, to retrieve the records of employees who earn more than $50,000 per year, we would use the following SQL statement:"
   ]
  },
  {
   "cell_type": "code",
   "execution_count": 8,
   "id": "fd9e0e89",
   "metadata": {},
   "outputs": [
    {
     "ename": "SyntaxError",
     "evalue": "invalid syntax (3970777326.py, line 1)",
     "output_type": "error",
     "traceback": [
      "\u001b[1;36m  Cell \u001b[1;32mIn[8], line 1\u001b[1;36m\u001b[0m\n\u001b[1;33m    SELECT * FROM employees WHERE salary > 50000;\u001b[0m\n\u001b[1;37m                  ^\u001b[0m\n\u001b[1;31mSyntaxError\u001b[0m\u001b[1;31m:\u001b[0m invalid syntax\n"
     ]
    }
   ],
   "source": [
    "SELECT * FROM employees WHERE salary > 50000;\n"
   ]
  },
  {
   "cell_type": "markdown",
   "id": "6cc13bf3",
   "metadata": {},
   "source": [
    "This will return all the records in the \"employees\" table where the salary is greater than $50,000, displaying the values for the employee ID, name, and salary columns.\n",
    "\n",
    "In summary, DQL statements are used to retrieve data from a database. The SELECT statement is used to query data from one or more tables in a database, allowing us to retrieve specific records that meet certain criteria or all records in a table."
   ]
  },
  {
   "cell_type": "markdown",
   "id": "f42485ba",
   "metadata": {},
   "source": [
    "Q5"
   ]
  },
  {
   "cell_type": "markdown",
   "id": "0ca6aad5",
   "metadata": {},
   "source": [
    "Primary Key:\n",
    "A primary key is a column or set of columns in a table that uniquely identifies each row in the table. It is used to enforce entity integrity, which means that each row in a table must have a unique identifier. A primary key can be composed of one or more columns and is used to link related tables in a database. When a primary key is defined on a column or set of columns, it also enforces the integrity of the data in those columns by ensuring that no two rows can have the same values in those columns.\n",
    "\n",
    "Foreign Key:\n",
    "A foreign key is a column or set of columns in a table that is used to establish a link between two tables in a database. It refers to the primary key of another table, which is why it is called a foreign key. The purpose of a foreign key is to enforce referential integrity, which means that the values in the foreign key column(s) must match the values in the primary key column(s) of the related table. This ensures that only valid data is inserted into the foreign key column(s), preventing data inconsistencies and errors.\n",
    "\n",
    "Here's an example to illustrate the concept of primary key "
   ]
  },
  {
   "cell_type": "markdown",
   "id": "cf5f771d",
   "metadata": {},
   "source": [
    "Q6"
   ]
  },
  {
   "cell_type": "code",
   "execution_count": 9,
   "id": "bc5f5908",
   "metadata": {},
   "outputs": [
    {
     "ename": "ModuleNotFoundError",
     "evalue": "No module named 'mysql'",
     "output_type": "error",
     "traceback": [
      "\u001b[1;31m---------------------------------------------------------------------------\u001b[0m",
      "\u001b[1;31mModuleNotFoundError\u001b[0m                       Traceback (most recent call last)",
      "Cell \u001b[1;32mIn[9], line 1\u001b[0m\n\u001b[1;32m----> 1\u001b[0m \u001b[38;5;28;01mimport\u001b[39;00m \u001b[38;5;21;01mmysql\u001b[39;00m\u001b[38;5;21;01m.\u001b[39;00m\u001b[38;5;21;01mconnector\u001b[39;00m\n\u001b[0;32m      3\u001b[0m \u001b[38;5;66;03m# Connect to the MySQL database\u001b[39;00m\n\u001b[0;32m      4\u001b[0m mydb \u001b[38;5;241m=\u001b[39m mysql\u001b[38;5;241m.\u001b[39mconnector\u001b[38;5;241m.\u001b[39mconnect(\n\u001b[0;32m      5\u001b[0m   host\u001b[38;5;241m=\u001b[39m\u001b[38;5;124m\"\u001b[39m\u001b[38;5;124mlocalhost\u001b[39m\u001b[38;5;124m\"\u001b[39m,\n\u001b[0;32m      6\u001b[0m   user\u001b[38;5;241m=\u001b[39m\u001b[38;5;124m\"\u001b[39m\u001b[38;5;124musername\u001b[39m\u001b[38;5;124m\"\u001b[39m,\n\u001b[0;32m      7\u001b[0m   password\u001b[38;5;241m=\u001b[39m\u001b[38;5;124m\"\u001b[39m\u001b[38;5;124mpassword\u001b[39m\u001b[38;5;124m\"\u001b[39m,\n\u001b[0;32m      8\u001b[0m   database\u001b[38;5;241m=\u001b[39m\u001b[38;5;124m\"\u001b[39m\u001b[38;5;124mdatabasename\u001b[39m\u001b[38;5;124m\"\u001b[39m\n\u001b[0;32m      9\u001b[0m )\n",
      "\u001b[1;31mModuleNotFoundError\u001b[0m: No module named 'mysql'"
     ]
    }
   ],
   "source": [
    "import mysql.connector\n",
    "\n",
    "# Connect to the MySQL database\n",
    "mydb = mysql.connector.connect(\n",
    "  host=\"localhost\",\n",
    "  user=\"username\",\n",
    "  password=\"password\",\n",
    "  database=\"databasename\"\n",
    ")\n",
    "\n",
    "# Create a cursor object\n",
    "mycursor = mydb.cursor()\n",
    "\n",
    "# Execute a SQL query\n",
    "mycursor.execute(\"SELECT * FROM table_name\")\n",
    "\n",
    "# Fetch the results of the query\n",
    "results = mycursor.fetchall()\n",
    "\n",
    "# Display the results\n",
    "for row in results:\n",
    "  print(row)\n"
   ]
  },
  {
   "cell_type": "markdown",
   "id": "fb04d4cd",
   "metadata": {},
   "source": [
    "In this code, we first import the mysql.connector module to connect to the MySQL database. We then create a connection object by specifying the host, user, password, and database name. Once the connection is established, we create a cursor object using the cursor() method of the connection object. The cursor object is used to execute SQL queries on the database.\n",
    "\n",
    "The execute() method is used to execute SQL queries. We pass the SQL query as a parameter to the execute() method. In this example, we execute a SELECT query to retrieve all the rows from a table.\n",
    "\n",
    "The fetchall() method is used to fetch all the results of the SQL query. We store the results in the results variable.\n",
    "\n",
    "Finally, we display the results using a for loop to iterate over the rows of the results variable.\n",
    "\n",
    "In summary, the cursor() method creates a cursor object, which is used to execute SQL queries on a database. The execute() method is used to execute SQL queries, and the fetchall() method is used to fetch the results of the query."
   ]
  },
  {
   "cell_type": "markdown",
   "id": "e2e239a7",
   "metadata": {},
   "source": [
    "Q7"
   ]
  },
  {
   "cell_type": "markdown",
   "id": "42129636",
   "metadata": {},
   "source": [
    "The order of execution of SQL clauses in an SQL query is as follows:\n",
    "\n",
    "FROM - specifies the table or tables to retrieve data from\n",
    "JOIN - combines rows from two or more tables based on a related column between them\n",
    "WHERE - specifies the conditions that the retrieved data must meet\n",
    "GROUP BY - groups the retrieved data based on one or more columns\n",
    "HAVING - specifies the conditions that the grouped data must meet\n",
    "SELECT - specifies the columns to retrieve from the table(s)\n",
    "DISTINCT - removes duplicate rows from the retrieved data\n",
    "ORDER BY - sorts the retrieved data based on one or more columns\n",
    "LIMIT - limits the number of rows returned by the query\n",
    "It's important to note that not all of these clauses are required in every SQL query. The clauses that are required depend on the specific requirements of the query. Additionally, some clauses, such as GROUP BY and HAVING, can be omitted if the query doesn't require them."
   ]
  },
  {
   "cell_type": "code",
   "execution_count": null,
   "id": "09db8bd6",
   "metadata": {},
   "outputs": [],
   "source": []
  }
 ],
 "metadata": {
  "kernelspec": {
   "display_name": "Python 3 (ipykernel)",
   "language": "python",
   "name": "python3"
  },
  "language_info": {
   "codemirror_mode": {
    "name": "ipython",
    "version": 3
   },
   "file_extension": ".py",
   "mimetype": "text/x-python",
   "name": "python",
   "nbconvert_exporter": "python",
   "pygments_lexer": "ipython3",
   "version": "3.11.1"
  }
 },
 "nbformat": 4,
 "nbformat_minor": 5
}
