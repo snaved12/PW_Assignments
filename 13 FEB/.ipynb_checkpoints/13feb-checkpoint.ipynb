{
 "cells": [
  {
   "cell_type": "markdown",
   "id": "071aed79",
   "metadata": {},
   "source": [
    "Q1"
   ]
  },
  {
   "cell_type": "markdown",
   "id": "24d734ca",
   "metadata": {},
   "source": [
    "In Python, Custom Exceptions are created by subclassing the built-in Exception class. This is because Exception class is the base class for all built-in exceptions in Python, and it provides a standard interface for defining and handling exceptions.\n",
    "\n",
    "When we create a Custom Exception, we are essentially creating a new exception class that inherits all the attributes and methods of the base Exception class. By inheriting from Exception, we get access to all the built-in methods and properties of exceptions, such as __str__, args, and raise. This makes it easier to define and raise exceptions in a consistent way, and allows us to reuse the existing exception handling mechanisms in Python.\n",
    "\n",
    "For example, if we want to create a Custom Exception for a specific type of error, say a ValueTooSmallError, we can create a new class that inherits from the Exception class, like this:"
   ]
  },
  {
   "cell_type": "code",
   "execution_count": 1,
   "id": "0b173c42",
   "metadata": {},
   "outputs": [
    {
     "ename": "IndentationError",
     "evalue": "expected an indented block after 'try' statement on line 6 (141273196.py, line 8)",
     "output_type": "error",
     "traceback": [
      "\u001b[1;36m  Cell \u001b[1;32mIn[1], line 8\u001b[1;36m\u001b[0m\n\u001b[1;33m    except ValueTooSmallError as e:\u001b[0m\n\u001b[1;37m    ^\u001b[0m\n\u001b[1;31mIndentationError\u001b[0m\u001b[1;31m:\u001b[0m expected an indented block after 'try' statement on line 6\n"
     ]
    }
   ],
   "source": [
    "class ValueTooSmallError(Exception):\n",
    "    pass\n",
    "x = 5\n",
    "if x < 10:\n",
    "    raise ValueTooSmallError(\"Value is too small\")\n",
    "try:\n",
    "    # some code that may raise ValueTooSmallError\n",
    "except ValueTooSmallError as e:\n",
    "    print(e)    "
   ]
  },
  {
   "cell_type": "markdown",
   "id": "ed19f033",
   "metadata": {},
   "source": [
    "This will raise a ValueTooSmallError with the message \"Value is too small\". We can also catch this exception using the try and except keywords, like this:\n",
    "    In summary, using the Exception class as the base class for Custom Exceptions ensures that our exceptions are compatible with the existing exception handling mechanisms in Python, and allows us to define and raise exceptions in a consistent and reusable way."
   ]
  },
  {
   "cell_type": "markdown",
   "id": "79207876",
   "metadata": {},
   "source": [
    "Q2"
   ]
  },
  {
   "cell_type": "code",
   "execution_count": 3,
   "id": "981d861c",
   "metadata": {},
   "outputs": [
    {
     "name": "stdout",
     "output_type": "stream",
     "text": [
      "BaseException\n",
      "    BaseExceptionGroup\n",
      "        ExceptionGroup\n",
      "    Exception\n",
      "        ArithmeticError\n",
      "            FloatingPointError\n",
      "            OverflowError\n",
      "            ZeroDivisionError\n",
      "                DivisionByZero\n",
      "                DivisionUndefined\n",
      "            DecimalException\n",
      "                Clamped\n",
      "                Rounded\n",
      "                    Underflow\n",
      "                    Overflow\n",
      "                Inexact\n",
      "                    Underflow\n",
      "                    Overflow\n",
      "                Subnormal\n",
      "                    Underflow\n",
      "                DivisionByZero\n",
      "                FloatOperation\n",
      "                InvalidOperation\n",
      "                    ConversionSyntax\n",
      "                    DivisionImpossible\n",
      "                    DivisionUndefined\n",
      "                    InvalidContext\n",
      "        AssertionError\n",
      "        AttributeError\n",
      "            FrozenInstanceError\n",
      "        BufferError\n",
      "        EOFError\n",
      "            IncompleteReadError\n",
      "        ImportError\n",
      "            ModuleNotFoundError\n",
      "            ZipImportError\n",
      "        LookupError\n",
      "            IndexError\n",
      "            KeyError\n",
      "                NoSuchKernel\n",
      "                UnknownBackend\n",
      "            CodecRegistryError\n",
      "        MemoryError\n",
      "        NameError\n",
      "            UnboundLocalError\n",
      "        OSError\n",
      "            BlockingIOError\n",
      "            ChildProcessError\n",
      "            ConnectionError\n",
      "                BrokenPipeError\n",
      "                ConnectionAbortedError\n",
      "                ConnectionRefusedError\n",
      "                ConnectionResetError\n",
      "                    RemoteDisconnected\n",
      "            FileExistsError\n",
      "            FileNotFoundError\n",
      "            InterruptedError\n",
      "                InterruptedSystemCall\n",
      "            IsADirectoryError\n",
      "            NotADirectoryError\n",
      "            PermissionError\n",
      "            ProcessLookupError\n",
      "            TimeoutError\n",
      "            UnsupportedOperation\n",
      "            herror\n",
      "            gaierror\n",
      "            SSLError\n",
      "                SSLCertVerificationError\n",
      "                SSLZeroReturnError\n",
      "                SSLWantWriteError\n",
      "                SSLWantReadError\n",
      "                SSLSyscallError\n",
      "                SSLEOFError\n",
      "            Error\n",
      "                SameFileError\n",
      "            SpecialFileError\n",
      "            ExecError\n",
      "            ReadError\n",
      "            URLError\n",
      "                HTTPError\n",
      "                ContentTooShortError\n",
      "            BadGzipFile\n",
      "        ReferenceError\n",
      "        RuntimeError\n",
      "            NotImplementedError\n",
      "                ZMQVersionError\n",
      "                StdinNotImplementedError\n",
      "            RecursionError\n",
      "            _DeadlockError\n",
      "            BrokenBarrierError\n",
      "            BrokenExecutor\n",
      "                BrokenThreadPool\n",
      "            SendfileNotAvailableError\n",
      "            BrokenBarrierError\n",
      "            ExtractionError\n",
      "            VariableError\n",
      "        StopAsyncIteration\n",
      "        StopIteration\n",
      "        SyntaxError\n",
      "            IndentationError\n",
      "                TabError\n",
      "        SystemError\n",
      "            CodecRegistryError\n",
      "        TypeError\n",
      "            FloatOperation\n",
      "            MultipartConversionError\n",
      "        ValueError\n",
      "            UnicodeError\n",
      "                UnicodeDecodeError\n",
      "                UnicodeEncodeError\n",
      "                UnicodeTranslateError\n",
      "            UnsupportedOperation\n",
      "            JSONDecodeError\n",
      "            SSLCertVerificationError\n",
      "            Error\n",
      "            UnsupportedDigestmodError\n",
      "            IllegalMonthError\n",
      "            IllegalWeekdayError\n",
      "            ParserError\n",
      "            ClassNotFound\n",
      "            ClipboardEmpty\n",
      "            MessageDefect\n",
      "                NoBoundaryInMultipartDefect\n",
      "                StartBoundaryNotFoundDefect\n",
      "                CloseBoundaryNotFoundDefect\n",
      "                FirstHeaderLineIsContinuationDefect\n",
      "                MisplacedEnvelopeHeaderDefect\n",
      "                MissingHeaderBodySeparatorDefect\n",
      "                MultipartInvariantViolationDefect\n",
      "                InvalidMultipartContentTransferEncodingDefect\n",
      "                UndecodableBytesDefect\n",
      "                InvalidBase64PaddingDefect\n",
      "                InvalidBase64CharactersDefect\n",
      "                InvalidBase64LengthDefect\n",
      "                HeaderDefect\n",
      "                    InvalidHeaderDefect\n",
      "                    HeaderMissingRequiredValue\n",
      "                    NonPrintableDefect\n",
      "                    ObsoleteHeaderDefect\n",
      "                    NonASCIILocalPartDefect\n",
      "                    InvalidDateDefect\n",
      "            MacroToEdit\n",
      "            InvalidFileException\n",
      "            UnequalIterablesError\n",
      "            InvalidVersion\n",
      "            _InvalidELFFileHeader\n",
      "            InvalidWheelFilename\n",
      "            InvalidSdistFilename\n",
      "            InvalidSpecifier\n",
      "            InvalidMarker\n",
      "            UndefinedComparison\n",
      "            UndefinedEnvironmentName\n",
      "            InvalidRequirement\n",
      "                RequirementParseError\n",
      "            InvalidVersion\n",
      "        Warning\n",
      "            BytesWarning\n",
      "            DeprecationWarning\n",
      "                ProvisionalWarning\n",
      "            EncodingWarning\n",
      "            FutureWarning\n",
      "                ProvisionalCompleterWarning\n",
      "            ImportWarning\n",
      "            PendingDeprecationWarning\n",
      "            ResourceWarning\n",
      "            RuntimeWarning\n",
      "                ProactorSelectorThreadWarning\n",
      "                UnknownTimezoneWarning\n",
      "                PEP440Warning\n",
      "            SyntaxWarning\n",
      "            UnicodeWarning\n",
      "            UserWarning\n",
      "                GetPassWarning\n",
      "                FormatterWarning\n",
      "            DeprecatedTzFormatWarning\n",
      "            PkgResourcesDeprecationWarning\n",
      "        ExceptionGroup\n",
      "        _OptionError\n",
      "        _Error\n",
      "        error\n",
      "        Error\n",
      "        SubprocessError\n",
      "            CalledProcessError\n",
      "            TimeoutExpired\n",
      "        TokenError\n",
      "        StopTokenizing\n",
      "        ClassFoundException\n",
      "        EndOfBlock\n",
      "        TraitError\n",
      "        Error\n",
      "        Error\n",
      "            CancelledError\n",
      "            InvalidStateError\n",
      "        _GiveupOnSendfile\n",
      "        error\n",
      "        Incomplete\n",
      "        InvalidStateError\n",
      "        LimitOverrunError\n",
      "        QueueEmpty\n",
      "        QueueFull\n",
      "        error\n",
      "        LZMAError\n",
      "        RegistryError\n",
      "        _GiveupOnFastCopy\n",
      "        Empty\n",
      "        Full\n",
      "        ZMQBaseError\n",
      "            ZMQError\n",
      "                ContextTerminated\n",
      "                Again\n",
      "                InterruptedSystemCall\n",
      "            ZMQBindError\n",
      "            NotDone\n",
      "        PickleError\n",
      "            PicklingError\n",
      "            UnpicklingError\n",
      "        _Stop\n",
      "        ArgumentError\n",
      "        ArgumentTypeError\n",
      "        ConfigError\n",
      "            ConfigLoaderError\n",
      "                ArgumentError\n",
      "            ConfigFileNotFound\n",
      "        ConfigurableError\n",
      "            MultipleInstanceError\n",
      "        ApplicationError\n",
      "        ArgumentError\n",
      "        COMError\n",
      "        ReturnValueIgnoredError\n",
      "        KeyReuseError\n",
      "        UnknownKeyError\n",
      "        LeakedCallbackError\n",
      "        BadYieldError\n",
      "        ReturnValueIgnoredError\n",
      "        Return\n",
      "        InvalidPortNumber\n",
      "        NoIPAddresses\n",
      "        BadZipFile\n",
      "        LargeZipFile\n",
      "        Error\n",
      "            NoSectionError\n",
      "            DuplicateSectionError\n",
      "            DuplicateOptionError\n",
      "            NoOptionError\n",
      "            InterpolationError\n",
      "                InterpolationMissingOptionError\n",
      "                InterpolationSyntaxError\n",
      "                InterpolationDepthError\n",
      "            ParsingError\n",
      "                MissingSectionHeaderError\n",
      "        BadEntryPoint\n",
      "        NoSuchEntryPoint\n",
      "        DuplicateKernelError\n",
      "        ErrorDuringImport\n",
      "        NotOneValueFound\n",
      "        KnownIssue\n",
      "        VerifierFailure\n",
      "        CannotEval\n",
      "        OptionError\n",
      "        BdbQuit\n",
      "        Restart\n",
      "        FindCmdError\n",
      "        HomeDirError\n",
      "        ProfileDirError\n",
      "        IPythonCoreError\n",
      "            TryNext\n",
      "            UsageError\n",
      "            StdinNotImplementedError\n",
      "        InputRejected\n",
      "        GetoptError\n",
      "        ErrorToken\n",
      "        PrefilterError\n",
      "        AliasError\n",
      "            InvalidAliasError\n",
      "        Error\n",
      "            InterfaceError\n",
      "            DatabaseError\n",
      "                InternalError\n",
      "                OperationalError\n",
      "                ProgrammingError\n",
      "                IntegrityError\n",
      "                DataError\n",
      "                NotSupportedError\n",
      "        Warning\n",
      "        SpaceInInput\n",
      "        DOMException\n",
      "            IndexSizeErr\n",
      "            DomstringSizeErr\n",
      "            HierarchyRequestErr\n",
      "            WrongDocumentErr\n",
      "            InvalidCharacterErr\n",
      "            NoDataAllowedErr\n",
      "            NoModificationAllowedErr\n",
      "            NotFoundErr\n",
      "            NotSupportedErr\n",
      "            InuseAttributeErr\n",
      "            InvalidStateErr\n",
      "            SyntaxErr\n",
      "            InvalidModificationErr\n",
      "            NamespaceErr\n",
      "            InvalidAccessErr\n",
      "            ValidationErr\n",
      "        ValidationError\n",
      "        EditReadOnlyBuffer\n",
      "        _Retry\n",
      "        InvalidLayoutError\n",
      "        HeightIsUnknownError\n",
      "        ParserSyntaxError\n",
      "        InternalParseError\n",
      "        _PositionUpdatingFinished\n",
      "        SimpleGetItemNotFound\n",
      "        UncaughtAttributeError\n",
      "        HasNoContext\n",
      "        ParamIssue\n",
      "        _JediError\n",
      "            InternalError\n",
      "            WrongVersion\n",
      "            RefactoringError\n",
      "        OnErrorLeaf\n",
      "        InvalidPythonEnvironment\n",
      "        MessageError\n",
      "            MessageParseError\n",
      "                HeaderParseError\n",
      "                BoundaryError\n",
      "            MultipartConversionError\n",
      "            CharsetError\n",
      "        HTTPException\n",
      "            NotConnected\n",
      "            InvalidURL\n",
      "            UnknownProtocol\n",
      "            UnknownTransferEncoding\n",
      "            UnimplementedFileMode\n",
      "            IncompleteRead\n",
      "            ImproperConnectionState\n",
      "                CannotSendRequest\n",
      "                CannotSendHeader\n",
      "                ResponseNotReady\n",
      "            BadStatusLine\n",
      "                RemoteDisconnected\n",
      "            LineTooLong\n",
      "        InteractivelyDefined\n",
      "        KillEmbedded\n",
      "        Error\n",
      "            NoSuchProcess\n",
      "                ZombieProcess\n",
      "            AccessDenied\n",
      "            TimeoutExpired\n",
      "        Error\n",
      "        TimeoutExpired\n",
      "        TimeoutAbandoned\n",
      "        QueueEmpty\n",
      "        QueueFull\n",
      "        DebuggerInitializationError\n",
      "        ExpatError\n",
      "        Error\n",
      "            ProtocolError\n",
      "            ResponseError\n",
      "            Fault\n",
      "        error\n",
      "        com_error\n",
      "        internal_error\n",
      "        ParseBaseException\n",
      "            ParseException\n",
      "            ParseFatalException\n",
      "                ParseSyntaxException\n",
      "        RecursiveGrammarException\n",
      "        ResolutionError\n",
      "            VersionConflict\n",
      "                ContextualVersionConflict\n",
      "            DistributionNotFound\n",
      "            UnknownExtra\n",
      "        _Error\n",
      "        UnableToResolveVariableException\n",
      "        InvalidTypeInArgsException\n",
      "    GeneratorExit\n",
      "    KeyboardInterrupt\n",
      "    SystemExit\n",
      "    CancelledError\n",
      "    AbortThread\n"
     ]
    }
   ],
   "source": [
    "def print_exception_hierarchy(exception_class, depth=0):\n",
    "    print('    '*depth + exception_class.__name__)\n",
    "    for subclass in exception_class.__subclasses__():\n",
    "        print_exception_hierarchy(subclass, depth+1)\n",
    "\n",
    "print_exception_hierarchy(BaseException)\n",
    "\n"
   ]
  },
  {
   "cell_type": "markdown",
   "id": "9dab59bf",
   "metadata": {},
   "source": [
    "Q3"
   ]
  },
  {
   "cell_type": "markdown",
   "id": "e989347c",
   "metadata": {},
   "source": [
    "The ArithmeticError class is a subclass of the Exception class in Python and represents errors that occur during arithmetic operations. The following are some of the errors that are defined in the ArithmeticError class:\n",
    "\n",
    "ZeroDivisionError: This error occurs when you try to divide a number by zero. For example:"
   ]
  },
  {
   "cell_type": "code",
   "execution_count": 4,
   "id": "4320b8b1",
   "metadata": {},
   "outputs": [
    {
     "ename": "SyntaxError",
     "evalue": "invalid syntax. Perhaps you forgot a comma? (4041882935.py, line 2)",
     "output_type": "error",
     "traceback": [
      "\u001b[1;36m  Cell \u001b[1;32mIn[4], line 2\u001b[1;36m\u001b[0m\n\u001b[1;33m    Traceback (most recent call last):\u001b[0m\n\u001b[1;37m               ^\u001b[0m\n\u001b[1;31mSyntaxError\u001b[0m\u001b[1;31m:\u001b[0m invalid syntax. Perhaps you forgot a comma?\n"
     ]
    }
   ],
   "source": [
    ">>> 1/0\n",
    "Traceback (most recent call last):\n",
    "  File \"<stdin>\", line 1, in <module>\n",
    "ZeroDivisionError: division by zero\n"
   ]
  },
  {
   "cell_type": "markdown",
   "id": "458541d7",
   "metadata": {},
   "source": [
    "OverflowError: This error occurs when you try to perform an arithmetic operation that results in a number that is too large to be represented by the available memory. For example:"
   ]
  },
  {
   "cell_type": "code",
   "execution_count": 5,
   "id": "b42a832e",
   "metadata": {},
   "outputs": [
    {
     "ename": "SyntaxError",
     "evalue": "invalid syntax. Perhaps you forgot a comma? (3675055294.py, line 2)",
     "output_type": "error",
     "traceback": [
      "\u001b[1;36m  Cell \u001b[1;32mIn[5], line 2\u001b[1;36m\u001b[0m\n\u001b[1;33m    Traceback (most recent call last):\u001b[0m\n\u001b[1;37m               ^\u001b[0m\n\u001b[1;31mSyntaxError\u001b[0m\u001b[1;31m:\u001b[0m invalid syntax. Perhaps you forgot a comma?\n"
     ]
    }
   ],
   "source": [
    ">>> 2 ** 10000\n",
    "Traceback (most recent call last):\n",
    "  File \"<stdin>\", line 1, in <module>\n",
    "OverflowError: int too large to convert to float\n"
   ]
  },
  {
   "cell_type": "markdown",
   "id": "ca6f19e4",
   "metadata": {},
   "source": [
    "FloatingPointError: This error occurs when you try to perform a floating-point operation that results in an undefined or unrepresentable value, such as division by zero or the square root of a negative number. For example:"
   ]
  },
  {
   "cell_type": "code",
   "execution_count": 6,
   "id": "55495943",
   "metadata": {},
   "outputs": [
    {
     "ename": "SyntaxError",
     "evalue": "invalid syntax. Perhaps you forgot a comma? (2291332402.py, line 3)",
     "output_type": "error",
     "traceback": [
      "\u001b[1;36m  Cell \u001b[1;32mIn[6], line 3\u001b[1;36m\u001b[0m\n\u001b[1;33m    Traceback (most recent call last):\u001b[0m\n\u001b[1;37m               ^\u001b[0m\n\u001b[1;31mSyntaxError\u001b[0m\u001b[1;31m:\u001b[0m invalid syntax. Perhaps you forgot a comma?\n"
     ]
    }
   ],
   "source": [
    ">>> import math\n",
    ">>> math.sqrt(-1)\n",
    "Traceback (most recent call last):\n",
    "  File \"<stdin>\", line 1, in <module>\n",
    "ValueError: math domain error\n"
   ]
  },
  {
   "cell_type": "markdown",
   "id": "b268a7de",
   "metadata": {},
   "source": [
    "Q4"
   ]
  },
  {
   "cell_type": "markdown",
   "id": "607c7abb",
   "metadata": {},
   "source": [
    "LookupError is a base class for all exceptions that occur when a key or index used to access a value in a mapping or sequence is invalid.\n",
    "\n",
    "KeyError is a subclass of LookupError. It occurs when you try to access a non-existent key in a dictionary. For example:"
   ]
  },
  {
   "cell_type": "code",
   "execution_count": 7,
   "id": "c1bcf5cd",
   "metadata": {},
   "outputs": [
    {
     "ename": "KeyError",
     "evalue": "'d'",
     "output_type": "error",
     "traceback": [
      "\u001b[1;31m---------------------------------------------------------------------------\u001b[0m",
      "\u001b[1;31mKeyError\u001b[0m                                  Traceback (most recent call last)",
      "Cell \u001b[1;32mIn[7], line 2\u001b[0m\n\u001b[0;32m      1\u001b[0m my_dict \u001b[38;5;241m=\u001b[39m {\u001b[38;5;124m'\u001b[39m\u001b[38;5;124ma\u001b[39m\u001b[38;5;124m'\u001b[39m: \u001b[38;5;241m1\u001b[39m, \u001b[38;5;124m'\u001b[39m\u001b[38;5;124mb\u001b[39m\u001b[38;5;124m'\u001b[39m: \u001b[38;5;241m2\u001b[39m, \u001b[38;5;124m'\u001b[39m\u001b[38;5;124mc\u001b[39m\u001b[38;5;124m'\u001b[39m: \u001b[38;5;241m3\u001b[39m}\n\u001b[1;32m----> 2\u001b[0m \u001b[38;5;28mprint\u001b[39m(\u001b[43mmy_dict\u001b[49m\u001b[43m[\u001b[49m\u001b[38;5;124;43m'\u001b[39;49m\u001b[38;5;124;43md\u001b[39;49m\u001b[38;5;124;43m'\u001b[39;49m\u001b[43m]\u001b[49m)  \u001b[38;5;66;03m# KeyError: 'd'\u001b[39;00m\n",
      "\u001b[1;31mKeyError\u001b[0m: 'd'"
     ]
    }
   ],
   "source": [
    "my_dict = {'a': 1, 'b': 2, 'c': 3}\n",
    "print(my_dict['d'])  # KeyError: 'd'\n"
   ]
  },
  {
   "cell_type": "markdown",
   "id": "3d2f347c",
   "metadata": {},
   "source": [
    "IndexError is another subclass of LookupError. It occurs when you try to access an index that is out of range in a sequence like a list, tuple or string. For example:"
   ]
  },
  {
   "cell_type": "code",
   "execution_count": 8,
   "id": "c620ce1f",
   "metadata": {},
   "outputs": [
    {
     "ename": "IndexError",
     "evalue": "list index out of range",
     "output_type": "error",
     "traceback": [
      "\u001b[1;31m---------------------------------------------------------------------------\u001b[0m",
      "\u001b[1;31mIndexError\u001b[0m                                Traceback (most recent call last)",
      "Cell \u001b[1;32mIn[8], line 2\u001b[0m\n\u001b[0;32m      1\u001b[0m my_list \u001b[38;5;241m=\u001b[39m [\u001b[38;5;241m1\u001b[39m, \u001b[38;5;241m2\u001b[39m, \u001b[38;5;241m3\u001b[39m]\n\u001b[1;32m----> 2\u001b[0m \u001b[38;5;28mprint\u001b[39m(\u001b[43mmy_list\u001b[49m\u001b[43m[\u001b[49m\u001b[38;5;241;43m3\u001b[39;49m\u001b[43m]\u001b[49m)  \u001b[38;5;66;03m# IndexError: list index out of range\u001b[39;00m\n",
      "\u001b[1;31mIndexError\u001b[0m: list index out of range"
     ]
    }
   ],
   "source": [
    "my_list = [1, 2, 3]\n",
    "print(my_list[3])  # IndexError: list index out of range\n"
   ]
  },
  {
   "cell_type": "markdown",
   "id": "5cc0cfe4",
   "metadata": {},
   "source": [
    "Q5"
   ]
  },
  {
   "cell_type": "markdown",
   "id": "9d5e62a9",
   "metadata": {},
   "source": [
    "ImportError is an exception raised when an import statement fails to import a module or a package. This error can occur if the specified module or package does not exist, if there is an error in the module or package, or if there are missing dependencies.\n",
    "\n",
    "ModuleNotFoundError is a subclass of ImportError and is raised when the specified module could not be found by the Python interpreter. It was introduced in Python 3.6 as a more specific and clearer error message for failed imports due to missing modules.\n",
    "\n",
    "For example, if we try to import a non-existent module called missing_module, an ImportError will be raised:"
   ]
  },
  {
   "cell_type": "code",
   "execution_count": 9,
   "id": "4baf8d5c",
   "metadata": {},
   "outputs": [
    {
     "name": "stdout",
     "output_type": "stream",
     "text": [
      "ImportError: Failed to import module\n"
     ]
    }
   ],
   "source": [
    "try:\n",
    "    import missing_module\n",
    "except ImportError:\n",
    "    print(\"ImportError: Failed to import module\")\n"
   ]
  },
  {
   "cell_type": "code",
   "execution_count": 10,
   "id": "89f3e240",
   "metadata": {},
   "outputs": [
    {
     "name": "stdout",
     "output_type": "stream",
     "text": [
      "ModuleNotFoundError: Failed to import module\n"
     ]
    }
   ],
   "source": [
    "try:\n",
    "    import missing_module\n",
    "except ModuleNotFoundError:\n",
    "    print(\"ModuleNotFoundError: Failed to import module\")\n"
   ]
  },
  {
   "cell_type": "markdown",
   "id": "7df37f8a",
   "metadata": {},
   "source": [
    "Q6"
   ]
  },
  {
   "cell_type": "markdown",
   "id": "27d27aa4",
   "metadata": {},
   "source": [
    "Here are some best practices for exception handling in Python:\n",
    "\n",
    "Always handle exceptions explicitly: Always use try-except blocks to handle exceptions explicitly, even if you expect the code to never raise an exception.\n",
    "\n",
    "Catch the specific exception: Instead of using a broad except block, catch the specific exception that you expect to be raised. This way, you can handle it more appropriately and avoid catching unintended exceptions.\n",
    "\n",
    "Use finally block: Use the finally block to release resources such as file handles, network connections, etc., regardless of whether an exception is raised or not.\n",
    "\n",
    "Avoid catching exceptions unnecessarily: Avoid catching exceptions if you don't know how to handle them. It is better to let the exception propagate up the call stack.\n",
    "\n",
    "Use logging to record exceptions: Use the logging module to record exceptions and their details. This way, you can diagnose and debug the issue later.\n",
    "\n",
    "Raise custom exceptions: Define and raise custom exceptions to make your code more readable and understandable.\n",
    "\n",
    "Handle exceptions close to the source: Handle exceptions close to the source where they occur rather than at the top-level of the program. This way, you can avoid catching unintended exceptions and can handle exceptions more appropriately.\n",
    "\n",
    "\n",
    "\n",
    "\n"
   ]
  },
  {
   "cell_type": "code",
   "execution_count": null,
   "id": "3a2eee35",
   "metadata": {},
   "outputs": [],
   "source": []
  }
 ],
 "metadata": {
  "kernelspec": {
   "display_name": "Python 3 (ipykernel)",
   "language": "python",
   "name": "python3"
  },
  "language_info": {
   "codemirror_mode": {
    "name": "ipython",
    "version": 3
   },
   "file_extension": ".py",
   "mimetype": "text/x-python",
   "name": "python",
   "nbconvert_exporter": "python",
   "pygments_lexer": "ipython3",
   "version": "3.11.1"
  }
 },
 "nbformat": 4,
 "nbformat_minor": 5
}
