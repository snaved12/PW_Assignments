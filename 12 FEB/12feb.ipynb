{
 "cells": [
  {
   "cell_type": "markdown",
   "id": "5f6d2a83",
   "metadata": {},
   "source": [
    "Q1"
   ]
  },
  {
   "cell_type": "markdown",
   "id": "176928d1",
   "metadata": {},
   "source": [
    "In Python, an exception is an event that occurs during the execution of a program that disrupts the normal flow of instructions. When an exception occurs, Python raises an error and halts the program execution.\n",
    "\n",
    "There are several built-in exception types in Python, such as ValueError, TypeError, IndexError, NameError, FileNotFoundError, ZeroDivisionError, etc. Each exception type corresponds to a specific error condition that can occur during program execution.\n",
    "\n",
    "Here are some differences between exceptions and syntax errors:\n",
    "\n",
    "Exceptions are errors that occur during program execution, whereas syntax errors occur before the program runs, due to incorrect syntax in the code.\n",
    "Exceptions are handled by using try and except blocks in the code, while syntax errors must be fixed in the code before the program can be executed.\n",
    "Exceptions can occur at any point during program execution, whereas syntax errors prevent the program from being executed at all.\n",
    "In general, exceptions can occur due to various reasons such as invalid input, incorrect program logic, errors accessing external resources (such as files or network), etc. It is important to handle exceptions properly in the code to ensure that the program continues to run correctly even in the presence of errors. This involves catching and handling specific exceptions that can occur in the code, and taking appropriate actions to recover from them."
   ]
  },
  {
   "cell_type": "markdown",
   "id": "3446e399",
   "metadata": {},
   "source": [
    "Q2"
   ]
  },
  {
   "cell_type": "markdown",
   "id": "baf71bdb",
   "metadata": {},
   "source": [
    "When an exception is not handled in a program, the program execution halts immediately, and an error message is displayed, along with the traceback of the error. This can be problematic if the program is running in a production environment, as it can lead to crashes and unexpected behavior.\n",
    "\n",
    "Here is an example of what happens when an exception is not handled:"
   ]
  },
  {
   "cell_type": "code",
   "execution_count": 1,
   "id": "2e802364",
   "metadata": {},
   "outputs": [
    {
     "ename": "ZeroDivisionError",
     "evalue": "division by zero",
     "output_type": "error",
     "traceback": [
      "\u001b[1;31m---------------------------------------------------------------------------\u001b[0m",
      "\u001b[1;31mZeroDivisionError\u001b[0m                         Traceback (most recent call last)",
      "Cell \u001b[1;32mIn[1], line 6\u001b[0m\n\u001b[0;32m      4\u001b[0m a \u001b[38;5;241m=\u001b[39m \u001b[38;5;241m10\u001b[39m\n\u001b[0;32m      5\u001b[0m b \u001b[38;5;241m=\u001b[39m \u001b[38;5;241m0\u001b[39m\n\u001b[1;32m----> 6\u001b[0m result \u001b[38;5;241m=\u001b[39m \u001b[43mdivide\u001b[49m\u001b[43m(\u001b[49m\u001b[43ma\u001b[49m\u001b[43m,\u001b[49m\u001b[43m \u001b[49m\u001b[43mb\u001b[49m\u001b[43m)\u001b[49m\n\u001b[0;32m      7\u001b[0m \u001b[38;5;28mprint\u001b[39m(result)\n",
      "Cell \u001b[1;32mIn[1], line 2\u001b[0m, in \u001b[0;36mdivide\u001b[1;34m(x, y)\u001b[0m\n\u001b[0;32m      1\u001b[0m \u001b[38;5;28;01mdef\u001b[39;00m \u001b[38;5;21mdivide\u001b[39m(x, y):\n\u001b[1;32m----> 2\u001b[0m     \u001b[38;5;28;01mreturn\u001b[39;00m \u001b[43mx\u001b[49m\u001b[43m \u001b[49m\u001b[38;5;241;43m/\u001b[39;49m\u001b[43m \u001b[49m\u001b[43my\u001b[49m\n",
      "\u001b[1;31mZeroDivisionError\u001b[0m: division by zero"
     ]
    }
   ],
   "source": [
    "def divide(x, y):\n",
    "    return x / y\n",
    "\n",
    "a = 10\n",
    "b = 0\n",
    "result = divide(a, b)\n",
    "print(result)\n"
   ]
  },
  {
   "cell_type": "markdown",
   "id": "2836924f",
   "metadata": {},
   "source": [
    "In this code, we define a function divide() that takes two arguments and returns the result of dividing the first argument by the second argument. We then call the function with two arguments, one of which is 0, which will result in a division by zero error.\n",
    "\n",
    "When we run this code, we get the following output:"
   ]
  },
  {
   "cell_type": "code",
   "execution_count": 2,
   "id": "e5e4554e",
   "metadata": {},
   "outputs": [
    {
     "ename": "SyntaxError",
     "evalue": "invalid syntax. Perhaps you forgot a comma? (3322934096.py, line 1)",
     "output_type": "error",
     "traceback": [
      "\u001b[1;36m  Cell \u001b[1;32mIn[2], line 1\u001b[1;36m\u001b[0m\n\u001b[1;33m    Traceback (most recent call last):\u001b[0m\n\u001b[1;37m               ^\u001b[0m\n\u001b[1;31mSyntaxError\u001b[0m\u001b[1;31m:\u001b[0m invalid syntax. Perhaps you forgot a comma?\n"
     ]
    }
   ],
   "source": [
    "Traceback (most recent call last):\n",
    "  File \"example.py\", line 6, in <module>\n",
    "    result = divide(a, b)\n",
    "  File \"example.py\", line 2, in divide\n",
    "    return x / y\n",
    "ZeroDivisionError: division by zero\n"
   ]
  },
  {
   "cell_type": "markdown",
   "id": "cea29e31",
   "metadata": {},
   "source": [
    "This error message indicates that a ZeroDivisionError occurred at line 2 of the divide() function. Since we did not handle this exception, the program execution halted immediately, and the error message was displayed, along with the traceback of the error."
   ]
  },
  {
   "cell_type": "markdown",
   "id": "87c01e17",
   "metadata": {},
   "source": [
    "Q3"
   ]
  },
  {
   "cell_type": "markdown",
   "id": "818a36c1",
   "metadata": {},
   "source": [
    "Python provides two statements to handle exceptions: try-except and try-finally.\n",
    "\n",
    "The try-except block allows us to handle exceptions that occur within the try block. The syntax is as follows:"
   ]
  },
  {
   "cell_type": "code",
   "execution_count": 3,
   "id": "c7e82e2a",
   "metadata": {},
   "outputs": [
    {
     "ename": "IndentationError",
     "evalue": "expected an indented block after 'try' statement on line 1 (23863809.py, line 3)",
     "output_type": "error",
     "traceback": [
      "\u001b[1;36m  Cell \u001b[1;32mIn[3], line 3\u001b[1;36m\u001b[0m\n\u001b[1;33m    except ExceptionType:\u001b[0m\n\u001b[1;37m    ^\u001b[0m\n\u001b[1;31mIndentationError\u001b[0m\u001b[1;31m:\u001b[0m expected an indented block after 'try' statement on line 1\n"
     ]
    }
   ],
   "source": [
    "try:\n",
    "    # code that may raise an exception\n",
    "except ExceptionType:\n",
    "    # code to handle the exception\n"
   ]
  },
  {
   "cell_type": "markdown",
   "id": "e6d2e60e",
   "metadata": {},
   "source": [
    "In this code, we put the code that may raise an exception inside the try block. If an exception of type ExceptionType occurs, the code inside the except block is executed to handle the exception.\n",
    "\n",
    "Here is an example:"
   ]
  },
  {
   "cell_type": "code",
   "execution_count": 4,
   "id": "0fb31c52",
   "metadata": {},
   "outputs": [
    {
     "name": "stdout",
     "output_type": "stream",
     "text": [
      "Enter a number: 10\n",
      "Enter another number: 10\n",
      "Result: 1.0\n"
     ]
    }
   ],
   "source": [
    "try:\n",
    "    x = int(input(\"Enter a number: \"))\n",
    "    y = int(input(\"Enter another number: \"))\n",
    "    result = x / y\n",
    "except ZeroDivisionError:\n",
    "    print(\"Error: Division by zero\")\n",
    "else:\n",
    "    print(\"Result:\", result)\n"
   ]
  },
  {
   "cell_type": "markdown",
   "id": "363b639a",
   "metadata": {},
   "source": [
    "In this code, we ask the user to enter two numbers and store them in variables x and y. We then try to divide x by y and store the result in the result variable. If a ZeroDivisionError occurs, we print an error message. If no exception occurs, we print the result.\n",
    "\n",
    "The try-finally block allows us to execute some code after the try block, whether an exception occurred or not. The syntax is as follows:"
   ]
  },
  {
   "cell_type": "markdown",
   "id": "99a88b06",
   "metadata": {},
   "source": [
    "Q4"
   ]
  },
  {
   "cell_type": "markdown",
   "id": "06526d17",
   "metadata": {},
   "source": [
    " here's an example of using try-except with else and finally:"
   ]
  },
  {
   "cell_type": "code",
   "execution_count": 5,
   "id": "cb0774ff",
   "metadata": {},
   "outputs": [
    {
     "name": "stdout",
     "output_type": "stream",
     "text": [
      "Enter a number: 20\n",
      "Enter another number: 54\n",
      "The result is: 0.37037037037037035\n",
      "This code always executes, whether there was an exception or not.\n"
     ]
    }
   ],
   "source": [
    "try:\n",
    "    num1 = int(input(\"Enter a number: \"))\n",
    "    num2 = int(input(\"Enter another number: \"))\n",
    "    result = num1 / num2\n",
    "except ValueError:\n",
    "    print(\"Error: Please enter a valid integer.\")\n",
    "except ZeroDivisionError:\n",
    "    print(\"Error: Cannot divide by zero.\")\n",
    "else:\n",
    "    print(\"The result is:\", result)\n",
    "finally:\n",
    "    print(\"This code always executes, whether there was an exception or not.\")\n"
   ]
  },
  {
   "cell_type": "markdown",
   "id": "b2bd9123",
   "metadata": {},
   "source": [
    "In this example, we ask the user to input two integers and store them in num1 and num2. We then try to divide num1 by num2 and store the result in result.\n",
    "\n",
    "If the user enters a non-integer value, a ValueError will be raised, and the code inside the except ValueError block will be executed, printing an error message.\n",
    "\n",
    "If the user enters 0 for num2, a ZeroDivisionError will be raised, and the code inside the except ZeroDivisionError block will be executed, printing an error message.\n",
    "\n",
    "If no exception occurs, the code inside the else block will be executed, printing the result.\n",
    "\n",
    "Finally, the finally block will always execute, regardless of whether an exception occurred or not, printing a message.\n",
    "\n",
    "If an exception is raised in the try block, the code inside the except block that matches the type of the exception will be executed. If no matching except block is found, the exception will propagate up to the next level of the program to be handled there.\n",
    "\n",
    "The else block is executed if no exceptions are raised in the try block. The finally block is always executed, whether an exception was raised or not. It is used to release resources (such as files or network connections) that were acquired in the try block."
   ]
  },
  {
   "cell_type": "markdown",
   "id": "a9500944",
   "metadata": {},
   "source": [
    "Q5"
   ]
  },
  {
   "cell_type": "markdown",
   "id": "bd3ece85",
   "metadata": {},
   "source": [
    "In Python, a custom exception is a user-defined exception that is created to handle specific errors in a program. We need custom exceptions to handle the specific errors that are not covered by the built-in exceptions in Python.\n",
    "\n",
    "Custom exceptions are derived from the base class 'Exception'. They are defined by the user with their own names and error messages.\n",
    "\n",
    "Here is an example of a custom exception:"
   ]
  },
  {
   "cell_type": "code",
   "execution_count": 6,
   "id": "e9c9bbf7",
   "metadata": {},
   "outputs": [],
   "source": [
    "class NegativeNumberError(Exception):\n",
    "    def __init__(self, message):\n",
    "        self.message = message\n",
    "        \n",
    "    def __str__(self):\n",
    "        return f\"{self.message} should be a positive number.\"\n",
    "        \n",
    "def square_root(n):\n",
    "    if n < 0:\n",
    "        raise NegativeNumberError(n)\n",
    "    else:\n",
    "        return n ** 0.5\n"
   ]
  },
  {
   "cell_type": "markdown",
   "id": "66418367",
   "metadata": {},
   "source": [
    "In this example, the custom exception 'NegativeNumberError' is raised when a negative number is passed to the 'square_root' function. The exception is defined to return a message saying that the number should be positive.\n",
    "\n",
    "We can then handle this custom exception in our program using a try-except block:"
   ]
  },
  {
   "cell_type": "code",
   "execution_count": 7,
   "id": "a6e25cda",
   "metadata": {},
   "outputs": [
    {
     "name": "stdout",
     "output_type": "stream",
     "text": [
      "-4 should be a positive number.\n"
     ]
    }
   ],
   "source": [
    "try:\n",
    "    square_root(-4)\n",
    "except NegativeNumberError as e:\n",
    "    print(e)\n"
   ]
  },
  {
   "cell_type": "markdown",
   "id": "c1d72f4a",
   "metadata": {},
   "source": [
    "Q6"
   ]
  },
  {
   "cell_type": "code",
   "execution_count": 8,
   "id": "ec5e2f3b",
   "metadata": {},
   "outputs": [
    {
     "name": "stdout",
     "output_type": "stream",
     "text": [
      "Error: User must be 18 years or older.\n"
     ]
    }
   ],
   "source": [
    "class InvalidAgeError(Exception):\n",
    "    def __init__(self, message):\n",
    "        self.message = message\n",
    "        \n",
    "    def __str__(self):\n",
    "        return f\"Error: {self.message}\"\n",
    "        \n",
    "def register_user(name, age):\n",
    "    if age < 18:\n",
    "        raise InvalidAgeError(\"User must be 18 years or older.\")\n",
    "    else:\n",
    "        print(f\"{name} has been registered successfully.\")\n",
    "        \n",
    "# Example usage\n",
    "try:\n",
    "    register_user(\"Alice\", 16)\n",
    "except InvalidAgeError as e:\n",
    "    print(e)\n"
   ]
  },
  {
   "cell_type": "markdown",
   "id": "c6db382a",
   "metadata": {},
   "source": [
    "In this example, we define a custom exception class called 'InvalidAgeError'. This exception is raised when someone tries to register a user who is younger than 18 years old. The exception message is defined in the __str__ method.\n",
    "\n",
    "We use the register_user function to register a user with a name and an age. If the age is less than 18, the InvalidAgeError exception is raised with the appropriate error message.\n",
    "\n",
    "Finally, we use a try-except block to handle the InvalidAgeError exception. If the exception is raised during the execution of the register_user function, the error message will be printed."
   ]
  },
  {
   "cell_type": "code",
   "execution_count": null,
   "id": "ed19a561",
   "metadata": {},
   "outputs": [],
   "source": []
  }
 ],
 "metadata": {
  "kernelspec": {
   "display_name": "Python 3 (ipykernel)",
   "language": "python",
   "name": "python3"
  },
  "language_info": {
   "codemirror_mode": {
    "name": "ipython",
    "version": 3
   },
   "file_extension": ".py",
   "mimetype": "text/x-python",
   "name": "python",
   "nbconvert_exporter": "python",
   "pygments_lexer": "ipython3",
   "version": "3.11.1"
  }
 },
 "nbformat": 4,
 "nbformat_minor": 5
}
