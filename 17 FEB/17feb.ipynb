{
 "cells": [
  {
   "cell_type": "markdown",
   "id": "d4f22258",
   "metadata": {},
   "source": [
    "Q1"
   ]
  },
  {
   "cell_type": "markdown",
   "id": "e5e9a899",
   "metadata": {},
   "source": [
    "MongoDB is a document-oriented NoSQL database that provides a flexible and scalable solution for managing large and complex data sets. Unlike traditional relational databases, MongoDB is a non-relational database that stores data in a document format, using a flexible and dynamic schema.\n",
    "\n",
    "Non-relational databases, also known as NoSQL databases, are databases that use a non-tabular, flexible data model that is designed to handle large and complex data sets. They are used for managing unstructured data, which can be difficult to organize and manage using traditional relational databases. Non-relational databases can be classified into different categories, including document-oriented databases like MongoDB, key-value stores, graph databases, and column-family databases.\n",
    "\n",
    "In general, MongoDB is preferred over SQL databases in scenarios where flexibility and scalability are important. Here are a few scenarios where MongoDB is a good choice:\n",
    "\n",
    "When handling large volumes of unstructured or semi-structured data, MongoDB's document-oriented architecture can provide a more flexible and efficient solution than traditional relational databases.\n",
    "\n",
    "When dealing with real-time data or high-velocity data streams, MongoDB's scalability and ability to handle large volumes of data can be beneficial.\n",
    "\n",
    "When building applications that require a high level of flexibility and agility, MongoDB's dynamic schema can be easier to work with than the rigid schema of traditional SQL databases.\n",
    "\n",
    "When developing applications that require geographic distribution or the ability to run on cloud platforms, MongoDB's distributed architecture and support for sharding can provide a more scalable and efficient solution.\n",
    "\n",
    "In summary, MongoDB is a popular non-relational database that provides a flexible and scalable solution for managing large and complex data sets. It is often preferred over SQL databases in scenarios where flexibility and scalability are important, and where traditional relational databases may not be the best fit for the data and application requirements."
   ]
  },
  {
   "cell_type": "markdown",
   "id": "2fa2eb77",
   "metadata": {},
   "source": [
    "Q2"
   ]
  },
  {
   "cell_type": "markdown",
   "id": "cbef6973",
   "metadata": {},
   "source": [
    "MongoDB is a popular NoSQL document-oriented database that provides a number of features that make it a powerful and flexible solution for managing large and complex data sets. Here are some of the key features of MongoDB:\n",
    "\n",
    "Dynamic schema: MongoDB uses a dynamic schema, which allows for flexible and easy storage of data. This means that documents in a collection can have different structures and fields, which can be added or removed dynamically as needed.\n",
    "\n",
    "Document-oriented: MongoDB stores data in a document-oriented format, which means that data is stored as JSON-like documents with dynamic schemas. This allows for faster and more efficient access to data than traditional relational databases.\n",
    "\n",
    "Scalability: MongoDB is designed to be highly scalable, with support for horizontal scaling through sharding. This means that as data volumes grow, MongoDB can scale horizontally across multiple servers to handle the load.\n",
    "\n",
    "High performance: MongoDB is designed to be fast and efficient, with support for indexing and other optimization features that can improve query performance and data retrieval speed.\n",
    "\n",
    "Rich query language: MongoDB provides a rich and powerful query language that allows for complex queries and aggregations to be performed on data sets. It also supports a range of query operators and functions to make it easy to manipulate and transform data.\n",
    "\n",
    "Easy integration: MongoDB provides easy integration with a wide range of programming languages and frameworks, including Java, Python, Node.js, and Ruby, among others.\n",
    "\n",
    "High availability: MongoDB provides high availability through its support for replication, which allows for automatic failover and recovery in the event of a server failure.\n",
    "\n",
    "In summary, MongoDB is a powerful and flexible NoSQL document-oriented database that provides a range of features to support scalability, performance, and ease of use. Its dynamic schema, document-oriented format, rich query language, and easy integration make it a popular choice for managing large and complex data sets."
   ]
  },
  {
   "cell_type": "markdown",
   "id": "cefe0a7f",
   "metadata": {},
   "source": [
    "Q3"
   ]
  },
  {
   "cell_type": "code",
   "execution_count": 1,
   "id": "0a450d13",
   "metadata": {},
   "outputs": [
    {
     "ename": "SyntaxError",
     "evalue": "invalid syntax (628838500.py, line 1)",
     "output_type": "error",
     "traceback": [
      "\u001b[1;36m  Cell \u001b[1;32mIn[1], line 1\u001b[1;36m\u001b[0m\n\u001b[1;33m    pip install pymongo\u001b[0m\n\u001b[1;37m        ^\u001b[0m\n\u001b[1;31mSyntaxError\u001b[0m\u001b[1;31m:\u001b[0m invalid syntax\n"
     ]
    }
   ],
   "source": [
    "pip install pymongo\n",
    "import pymongo\n",
    "\n",
    "# Replace the uri string with your MongoDB deployment's connection string\n",
    "uri = \"mongodb+srv://<username>:<password>@<cluster-url>/<database-name>?retryWrites=true&w=majority\"\n",
    "client = pymongo.MongoClient(uri)\n",
    "\n",
    "# Replace <database-name> and <collection-name> with your desired database and collection names\n",
    "db = client[\"<database-name>\"]\n",
    "collection = db[\"<collection-name>\"]\n"
   ]
  },
  {
   "cell_type": "markdown",
   "id": "880f1f95",
   "metadata": {},
   "source": [
    "This code will create a new database and collection in MongoDB with the specified names. It will then insert a new document into the collection with the fields \"name\" and \"age\". You can modify the document and collection as needed to fit your specific use case."
   ]
  },
  {
   "cell_type": "markdown",
   "id": "82313299",
   "metadata": {},
   "source": [
    "Q4"
   ]
  },
  {
   "cell_type": "code",
   "execution_count": 2,
   "id": "5d2eff21",
   "metadata": {},
   "outputs": [
    {
     "ename": "ModuleNotFoundError",
     "evalue": "No module named 'pymongo'",
     "output_type": "error",
     "traceback": [
      "\u001b[1;31m---------------------------------------------------------------------------\u001b[0m",
      "\u001b[1;31mModuleNotFoundError\u001b[0m                       Traceback (most recent call last)",
      "Cell \u001b[1;32mIn[2], line 1\u001b[0m\n\u001b[1;32m----> 1\u001b[0m \u001b[38;5;28;01mimport\u001b[39;00m \u001b[38;5;21;01mpymongo\u001b[39;00m\n\u001b[0;32m      3\u001b[0m \u001b[38;5;66;03m# Replace the uri string with your MongoDB deployment's connection string\u001b[39;00m\n\u001b[0;32m      4\u001b[0m uri \u001b[38;5;241m=\u001b[39m \u001b[38;5;124m\"\u001b[39m\u001b[38;5;124mmongodb+srv://<username>:<password>@<cluster-url>/<database-name>?retryWrites=true&w=majority\u001b[39m\u001b[38;5;124m\"\u001b[39m\n",
      "\u001b[1;31mModuleNotFoundError\u001b[0m: No module named 'pymongo'"
     ]
    }
   ],
   "source": [
    "import pymongo\n",
    "\n",
    "# Replace the uri string with your MongoDB deployment's connection string\n",
    "uri = \"mongodb+srv://<username>:<password>@<cluster-url>/<database-name>?retryWrites=true&w=majority\"\n",
    "client = pymongo.MongoClient(uri)\n",
    "\n",
    "# Replace <database-name> and <collection-name> with your desired database and collection names\n",
    "db = client[\"<database-name>\"]\n",
    "collection = db[\"<collection-name>\"]\n",
    "\n",
    "# Insert one record\n",
    "document = {\"name\": \"John\", \"age\": 30}\n",
    "collection.insert_one(document)\n",
    "\n",
    "# Insert many records\n",
    "documents = [\n",
    "    {\"name\": \"Jane\", \"age\": 25},\n",
    "    {\"name\": \"Bob\", \"age\": 40},\n",
    "    {\"name\": \"Alice\", \"age\": 35}\n",
    "]\n",
    "collection.insert_many(documents)\n",
    "\n",
    "# Print the inserted record(s)\n",
    "print(\"One record:\")\n",
    "print(collection.find_one())\n",
    "\n",
    "print(\"Many records:\")\n",
    "for document in collection.find():\n",
    "    print(document)\n"
   ]
  },
  {
   "cell_type": "markdown",
   "id": "a1132dbc",
   "metadata": {},
   "source": [
    "Q5"
   ]
  },
  {
   "cell_type": "markdown",
   "id": "7d2954d7",
   "metadata": {},
   "source": [
    "The find() method in MongoDB is used to retrieve data from a collection. It can be used to query the database based on various criteria such as filter, sort, limit, skip, and projection.\n",
    "\n",
    "To use the find() method, you first need to have a reference to the collection you want to query. You can create a reference to the collection using the following code:"
   ]
  },
  {
   "cell_type": "code",
   "execution_count": 3,
   "id": "1312f18d",
   "metadata": {},
   "outputs": [
    {
     "ename": "ModuleNotFoundError",
     "evalue": "No module named 'pymongo'",
     "output_type": "error",
     "traceback": [
      "\u001b[1;31m---------------------------------------------------------------------------\u001b[0m",
      "\u001b[1;31mModuleNotFoundError\u001b[0m                       Traceback (most recent call last)",
      "Cell \u001b[1;32mIn[3], line 1\u001b[0m\n\u001b[1;32m----> 1\u001b[0m \u001b[38;5;28;01mimport\u001b[39;00m \u001b[38;5;21;01mpymongo\u001b[39;00m\n\u001b[0;32m      3\u001b[0m \u001b[38;5;66;03m# Replace the uri string with your MongoDB deployment's connection string\u001b[39;00m\n\u001b[0;32m      4\u001b[0m uri \u001b[38;5;241m=\u001b[39m \u001b[38;5;124m\"\u001b[39m\u001b[38;5;124mmongodb+srv://<username>:<password>@<cluster-url>/<database-name>?retryWrites=true&w=majority\u001b[39m\u001b[38;5;124m\"\u001b[39m\n",
      "\u001b[1;31mModuleNotFoundError\u001b[0m: No module named 'pymongo'"
     ]
    }
   ],
   "source": [
    "import pymongo\n",
    "\n",
    "# Replace the uri string with your MongoDB deployment's connection string\n",
    "uri = \"mongodb+srv://<username>:<password>@<cluster-url>/<database-name>?retryWrites=true&w=majority\"\n",
    "client = pymongo.MongoClient(uri)\n",
    "\n",
    "# Replace <database-name> and <collection-name> with your desired database and collection names\n",
    "db = client[\"<database-name>\"]\n",
    "collection = db[\"<collection-name>\"]\n"
   ]
  },
  {
   "cell_type": "code",
   "execution_count": 4,
   "id": "88580ca2",
   "metadata": {},
   "outputs": [
    {
     "ename": "NameError",
     "evalue": "name 'collection' is not defined",
     "output_type": "error",
     "traceback": [
      "\u001b[1;31m---------------------------------------------------------------------------\u001b[0m",
      "\u001b[1;31mNameError\u001b[0m                                 Traceback (most recent call last)",
      "Cell \u001b[1;32mIn[4], line 2\u001b[0m\n\u001b[0;32m      1\u001b[0m \u001b[38;5;66;03m# Find all documents in the collection\u001b[39;00m\n\u001b[1;32m----> 2\u001b[0m documents \u001b[38;5;241m=\u001b[39m \u001b[43mcollection\u001b[49m\u001b[38;5;241m.\u001b[39mfind()\n\u001b[0;32m      4\u001b[0m \u001b[38;5;66;03m# Iterate over the cursor and print each document\u001b[39;00m\n\u001b[0;32m      5\u001b[0m \u001b[38;5;28;01mfor\u001b[39;00m document \u001b[38;5;129;01min\u001b[39;00m documents:\n",
      "\u001b[1;31mNameError\u001b[0m: name 'collection' is not defined"
     ]
    }
   ],
   "source": [
    "# Find all documents in the collection\n",
    "documents = collection.find()\n",
    "\n",
    "# Iterate over the cursor and print each document\n",
    "for document in documents:\n",
    "    print(document)\n",
    "# Find documents where the \"name\" field is \"John\"\n",
    "documents = collection.find({\"name\": \"John\"})\n",
    "\n",
    "# Iterate over the cursor and print each document\n",
    "for document in documents:\n",
    "    print(document)\n",
    "# Find documents, sort by age in descending order, limit to 2 documents, and project only the \"name\" field\n",
    "documents = collection.find({}, {\"name\": 1, \"_id\": 0}).sort(\"age\", pymongo.DESCENDING).limit(2)\n",
    "\n",
    "# Iterate over the cursor and print each document\n",
    "for document in documents:\n",
    "    print(document)\n"
   ]
  },
  {
   "cell_type": "markdown",
   "id": "e1ee3c34",
   "metadata": {},
   "source": [
    "Q6"
   ]
  },
  {
   "cell_type": "markdown",
   "id": "41682eaa",
   "metadata": {},
   "source": [
    "The sort() method in MongoDB is used to sort the results of a query in ascending or descending order based on one or more fields. The method takes one or more field names as arguments and sorts the results in ascending order by default. You can use the pymongo.ASCENDING and pymongo.DESCENDING constants to specify the sort order explicitly.\n",
    "\n",
    "Here is an example to demonstrate sorting in MongoDB:\n",
    "\n",
    "Suppose you have a collection named students with the following documents:"
   ]
  },
  {
   "cell_type": "code",
   "execution_count": 7,
   "id": "06c24808",
   "metadata": {},
   "outputs": [
    {
     "ename": "ModuleNotFoundError",
     "evalue": "No module named 'pymongo'",
     "output_type": "error",
     "traceback": [
      "\u001b[1;31m---------------------------------------------------------------------------\u001b[0m",
      "\u001b[1;31mModuleNotFoundError\u001b[0m                       Traceback (most recent call last)",
      "Cell \u001b[1;32mIn[7], line 5\u001b[0m\n\u001b[0;32m      3\u001b[0m { \u001b[38;5;124m\"\u001b[39m\u001b[38;5;124m_id\u001b[39m\u001b[38;5;124m\"\u001b[39m: \u001b[38;5;241m3\u001b[39m, \u001b[38;5;124m\"\u001b[39m\u001b[38;5;124mname\u001b[39m\u001b[38;5;124m\"\u001b[39m: \u001b[38;5;124m\"\u001b[39m\u001b[38;5;124mCharlie\u001b[39m\u001b[38;5;124m\"\u001b[39m, \u001b[38;5;124m\"\u001b[39m\u001b[38;5;124mage\u001b[39m\u001b[38;5;124m\"\u001b[39m: \u001b[38;5;241m19\u001b[39m, \u001b[38;5;124m\"\u001b[39m\u001b[38;5;124mscore\u001b[39m\u001b[38;5;124m\"\u001b[39m: \u001b[38;5;241m90\u001b[39m }\n\u001b[0;32m      4\u001b[0m { \u001b[38;5;124m\"\u001b[39m\u001b[38;5;124m_id\u001b[39m\u001b[38;5;124m\"\u001b[39m: \u001b[38;5;241m4\u001b[39m, \u001b[38;5;124m\"\u001b[39m\u001b[38;5;124mname\u001b[39m\u001b[38;5;124m\"\u001b[39m: \u001b[38;5;124m\"\u001b[39m\u001b[38;5;124mDavid\u001b[39m\u001b[38;5;124m\"\u001b[39m, \u001b[38;5;124m\"\u001b[39m\u001b[38;5;124mage\u001b[39m\u001b[38;5;124m\"\u001b[39m: \u001b[38;5;241m18\u001b[39m, \u001b[38;5;124m\"\u001b[39m\u001b[38;5;124mscore\u001b[39m\u001b[38;5;124m\"\u001b[39m: \u001b[38;5;241m85\u001b[39m }\n\u001b[1;32m----> 5\u001b[0m \u001b[38;5;28;01mimport\u001b[39;00m \u001b[38;5;21;01mpymongo\u001b[39;00m\n\u001b[0;32m      7\u001b[0m \u001b[38;5;66;03m# Replace the uri string with your MongoDB deployment's connection string\u001b[39;00m\n\u001b[0;32m      8\u001b[0m uri \u001b[38;5;241m=\u001b[39m \u001b[38;5;124m\"\u001b[39m\u001b[38;5;124mmongodb+srv://<username>:<password>@<cluster-url>/<database-name>?retryWrites=true&w=majority\u001b[39m\u001b[38;5;124m\"\u001b[39m\n",
      "\u001b[1;31mModuleNotFoundError\u001b[0m: No module named 'pymongo'"
     ]
    }
   ],
   "source": [
    "{ \"_id\": 1, \"name\": \"Alice\", \"age\": 18, \"score\": 80 }\n",
    "{ \"_id\": 2, \"name\": \"Bob\", \"age\": 20, \"score\": 75 }\n",
    "{ \"_id\": 3, \"name\": \"Charlie\", \"age\": 19, \"score\": 90 }\n",
    "{ \"_id\": 4, \"name\": \"David\", \"age\": 18, \"score\": 85 }\n",
    "import pymongo\n",
    "\n",
    "# Replace the uri string with your MongoDB deployment's connection string\n",
    "uri = \"mongodb+srv://<username>:<password>@<cluster-url>/<database-name>?retryWrites=true&w=majority\"\n",
    "client = pymongo.MongoClient(uri)\n",
    "\n",
    "# Replace <database-name> and <collection-name> with your desired database and collection names\n",
    "db = client[\"<database-name>\"]\n",
    "collection = db[\"students\"]\n",
    "\n",
    "# Find all documents and sort them by score in ascending order\n",
    "documents = collection.find().sort(\"score\", pymongo.ASCENDING)\n",
    "\n",
    "# Iterate over the cursor and print each document\n",
    "for document in documents:\n",
    "    print(document)\n",
    "{ \"_id\": 2, \"name\": \"Bob\", \"age\": 20, \"score\": 75 }\n",
    "{ \"_id\": 1, \"name\": \"Alice\", \"age\": 18, \"score\": 80 }\n",
    "{ \"_id\": 4, \"name\": \"David\", \"age\": 18, \"score\": 85 }\n",
    "{ \"_id\": 3, \"name\": \"Charlie\", \"age\": 19, \"score\": 90 }\n",
    "# Find all documents and sort them by age in descending order and then by name in ascending order\n",
    "documents = collection.find().sort([(\"age\", pymongo.DESCENDING), (\"name\", pymongo.ASCENDING)])\n",
    "\n",
    "# Iterate over the cursor and print each document\n",
    "for document in documents:\n",
    "    print(document)\n",
    "{ \"_id\": 2, \"name\": \"Bob\", \"age\": 20, \"score\": 75 }\n",
    "{ \"_id\": 3, \"name\": \"Charlie\", \"age\": 19, \"score\": 90 }\n",
    "{ \"_id\": 1, \"name\": \"Alice\", \"age\": 18, \"score\": 80 }\n",
    "{ \"_id\": 4, \"name\": \"David\", \"age\": 18, \"score\": 85 }\n"
   ]
  },
  {
   "cell_type": "markdown",
   "id": "0159e0ec",
   "metadata": {},
   "source": [
    "Q7"
   ]
  },
  {
   "cell_type": "markdown",
   "id": "d26688f3",
   "metadata": {},
   "source": [
    "In MongoDB, there are several methods available for deleting documents and collections.\n",
    "\n",
    "delete_one() method is used to delete the first document that matches the specified filter criteria. If multiple documents match the filter, only the first one will be deleted. This method returns a DeleteResult object that contains information about the deletion operation, including the number of documents deleted.\n",
    "\n",
    "delete_many() method is used to delete all documents that match the specified filter criteria. This method returns a DeleteResult object that contains information about the deletion operation, including the number of documents deleted.\n",
    "\n",
    "drop() method is used to drop an entire collection from a database. When a collection is dropped, all the documents within the collection are permanently deleted, and the collection is removed from the database.\n",
    "\n",
    "These methods are used for different purposes:\n",
    "\n",
    "delete_one() method is useful when you want to delete a specific document from a collection.\n",
    "\n",
    "delete_many() method is useful when you want to delete multiple documents that match a specific filter criteria.\n",
    "\n",
    "drop() method is useful when you want to remove an entire collection from the database.\n",
    "\n",
    "It's important to note that these methods permanently delete data from the database. Therefore, you should use them with caution and make sure you have a backup of your data before performing any deletion operations."
   ]
  },
  {
   "cell_type": "code",
   "execution_count": null,
   "id": "995501fb",
   "metadata": {},
   "outputs": [],
   "source": []
  }
 ],
 "metadata": {
  "kernelspec": {
   "display_name": "Python 3 (ipykernel)",
   "language": "python",
   "name": "python3"
  },
  "language_info": {
   "codemirror_mode": {
    "name": "ipython",
    "version": 3
   },
   "file_extension": ".py",
   "mimetype": "text/x-python",
   "name": "python",
   "nbconvert_exporter": "python",
   "pygments_lexer": "ipython3",
   "version": "3.11.1"
  }
 },
 "nbformat": 4,
 "nbformat_minor": 5
}
