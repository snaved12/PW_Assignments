{
 "cells": [
  {
   "cell_type": "markdown",
   "id": "1b784644",
   "metadata": {},
   "source": [
    "Q1"
   ]
  },
  {
   "cell_type": "code",
   "execution_count": 14,
   "id": "7c21e08b",
   "metadata": {},
   "outputs": [
    {
     "data": {
      "text/plain": [
       "'Valid Password'"
      ]
     },
     "execution_count": 14,
     "metadata": {},
     "output_type": "execute_result"
    }
   ],
   "source": [
    "def check_password(password):\n",
    "    # Check password length\n",
    "    if len(password) != 10:\n",
    "        return \"Invalid Password: Password should be 10 characters long\"\n",
    "    \n",
    "    # Check for at least two uppercase letters\n",
    "    if sum(1 for char in password if char.isupper()) < 2:\n",
    "        return \"Invalid Password: Password should contain at least two uppercase letters\"\n",
    "    \n",
    "    # Check for at least two lowercase letters\n",
    "    if sum(1 for char in password if char.islower()) < 2:\n",
    "        return \"Invalid Password: Password should contain at least two lowercase letters\"\n",
    "    \n",
    "    # Check for at least one digit\n",
    "    if not any(char.isdigit() for char in password):\n",
    "        return \"Invalid Password: Password should contain at least one digit\"\n",
    "    \n",
    "    # Check for at least three special characters\n",
    "    special_characters = \"!@#$%^&*()_+-=\"\n",
    "    if sum(1 for char in password if char in special_characters) < 3:\n",
    "        return \"Invalid Password: Password should contain at least three special characters\"\n",
    "    \n",
    "    # All checks passed, password is valid\n",
    "    return \"Valid Password\"\n",
    "check_password(\"AB@ab#$678\")"
   ]
  },
  {
   "cell_type": "markdown",
   "id": "63a54f5d",
   "metadata": {},
   "source": [
    "Q2"
   ]
  },
  {
   "cell_type": "markdown",
   "id": "c91b9fbe",
   "metadata": {},
   "source": [
    "Check if the string starts with a particular letter:"
   ]
  },
  {
   "cell_type": "code",
   "execution_count": 15,
   "id": "c03d87bd",
   "metadata": {},
   "outputs": [
    {
     "name": "stdout",
     "output_type": "stream",
     "text": [
      "['apple']\n"
     ]
    }
   ],
   "source": [
    "starts_with_a = lambda x: x.startswith('a')\n",
    "string_list = ['apple', 'banana', 'orange']\n",
    "result = list(filter(starts_with_a, string_list))\n",
    "print(result)  # Output: ['apple']"
   ]
  },
  {
   "cell_type": "markdown",
   "id": "ec07b1b9",
   "metadata": {},
   "source": [
    "Check if the string is numeric:"
   ]
  },
  {
   "cell_type": "code",
   "execution_count": 16,
   "id": "a39c24b8",
   "metadata": {},
   "outputs": [
    {
     "name": "stdout",
     "output_type": "stream",
     "text": [
      "['123']\n"
     ]
    }
   ],
   "source": [
    "is_numeric = lambda x: x.isnumeric()\n",
    "string_list = ['123', 'abc', '4.5']\n",
    "result = list(filter(is_numeric, string_list))\n",
    "print(result)  # Output: ['123']\n"
   ]
  },
  {
   "cell_type": "markdown",
   "id": "26f16751",
   "metadata": {},
   "source": [
    "Sort a list of tuples having fruit names and their quantity:"
   ]
  },
  {
   "cell_type": "code",
   "execution_count": 17,
   "id": "1d0dbf09",
   "metadata": {},
   "outputs": [
    {
     "name": "stdout",
     "output_type": "stream",
     "text": [
      "[('orange', 80), ('mango', 99), ('grapes', 1000)]\n"
     ]
    }
   ],
   "source": [
    "fruits = [(\"mango\",99),(\"orange\",80), (\"grapes\", 1000)]\n",
    "sorted_fruits = sorted(fruits, key=lambda x: x[1])\n",
    "print(sorted_fruits)  # Output: [(\"orange\",80), (\"mango\",99), (\"grapes\", 1000)]\n"
   ]
  },
  {
   "cell_type": "markdown",
   "id": "46893460",
   "metadata": {},
   "source": [
    "Find the squares of numbers from 1 to 10:"
   ]
  },
  {
   "cell_type": "code",
   "execution_count": 18,
   "id": "a8d48493",
   "metadata": {},
   "outputs": [
    {
     "name": "stdout",
     "output_type": "stream",
     "text": [
      "[1, 4, 9, 16, 25, 36, 49, 64, 81, 100]\n"
     ]
    }
   ],
   "source": [
    "squares = [x**2 for x in range(1, 11)]\n",
    "print(squares)  # Output: [1, 4, 9, 16, 25, 36, 49, 64, 81, 100]\n"
   ]
  },
  {
   "cell_type": "markdown",
   "id": "e16442cf",
   "metadata": {},
   "source": [
    "Find the squares of numbers from 1 to 10:"
   ]
  },
  {
   "cell_type": "code",
   "execution_count": 19,
   "id": "a6925974",
   "metadata": {},
   "outputs": [
    {
     "name": "stdout",
     "output_type": "stream",
     "text": [
      "[1, 4, 9, 16, 25, 36, 49, 64, 81, 100]\n"
     ]
    }
   ],
   "source": [
    "squares = [x**2 for x in range(1, 11)]\n",
    "print(squares)  # Output: [1, 4, 9, 16, 25, 36, 49, 64, 81, 100]\n"
   ]
  },
  {
   "cell_type": "markdown",
   "id": "9817852f",
   "metadata": {},
   "source": [
    "Find the cube root of numbers from 1 to 10:"
   ]
  },
  {
   "cell_type": "code",
   "execution_count": 21,
   "id": "0d842914",
   "metadata": {},
   "outputs": [
    {
     "name": "stdout",
     "output_type": "stream",
     "text": [
      "[1.0, 1.2599210498948732, 1.4422495703074083, 1.5874010519681994, 1.7099759466766968, 1.8171205928321397, 1.912931182772389, 2.0, 2.080083823051904, 2.154434690031884]\n"
     ]
    }
   ],
   "source": [
    "import math\n",
    "cube_roots = [math.pow(x, 1/3) for x in range(1, 11)]\n",
    "print(cube_roots)  # Output: [1.0, 1.2599210498948732, 1.4422495703074083, 1.5874010519681994, 1.7099759466766968, 1.8171205928321397, 1.912931182772389, 2.0, 2.080083823051904, 2.154434690031884]\n"
   ]
  },
  {
   "cell_type": "markdown",
   "id": "863f6657",
   "metadata": {},
   "source": [
    "Check if a given number is even:"
   ]
  },
  {
   "cell_type": "code",
   "execution_count": 22,
   "id": "048b382e",
   "metadata": {},
   "outputs": [
    {
     "name": "stdout",
     "output_type": "stream",
     "text": [
      "True\n"
     ]
    }
   ],
   "source": [
    "is_even = lambda x: x % 2 == 0\n",
    "num = 4\n",
    "result = is_even(num)\n",
    "print(result)  # Output: True\n"
   ]
  },
  {
   "cell_type": "markdown",
   "id": "784f0e15",
   "metadata": {},
   "source": [
    "Filter odd numbers from the given list:"
   ]
  },
  {
   "cell_type": "code",
   "execution_count": 23,
   "id": "2e75b226",
   "metadata": {},
   "outputs": [
    {
     "name": "stdout",
     "output_type": "stream",
     "text": [
      "[1, 3, 5, 7, 9]\n"
     ]
    }
   ],
   "source": [
    "nums = [1,2,3,4,5,6,7,8,9,10]\n",
    "filtered_nums = list(filter(lambda x: x % 2 != 0, nums))\n",
    "print(filtered_nums)  # Output: [1, 3, 5, 7, 9]\n"
   ]
  },
  {
   "cell_type": "markdown",
   "id": "f10a9d93",
   "metadata": {},
   "source": [
    "Sort a list of integers into positive and negative integers lists:"
   ]
  },
  {
   "cell_type": "code",
   "execution_count": 24,
   "id": "9309588c",
   "metadata": {},
   "outputs": [
    {
     "name": "stdout",
     "output_type": "stream",
     "text": [
      "[1, 2, 3, 4, 5, 6]\n",
      "[-1, -2, -3, -4, -5]\n"
     ]
    }
   ],
   "source": [
    "nums = [1,2,3,4,5,6,-1,-2,-3,-4,-5,0]\n",
    "positive_nums = [x for x in nums if x > 0]\n",
    "negative_nums = [x for x in nums if x < 0]\n",
    "print(positive_nums)  # Output: [1, 2, 3, 4, 5, 6]\n",
    "print(negative_nums)  # Output: [-1, -2, -3, -4, -5]\n"
   ]
  },
  {
   "cell_type": "code",
   "execution_count": null,
   "id": "b9cf4580",
   "metadata": {},
   "outputs": [],
   "source": []
  }
 ],
 "metadata": {
  "kernelspec": {
   "display_name": "Python 3 (ipykernel)",
   "language": "python",
   "name": "python3"
  },
  "language_info": {
   "codemirror_mode": {
    "name": "ipython",
    "version": 3
   },
   "file_extension": ".py",
   "mimetype": "text/x-python",
   "name": "python",
   "nbconvert_exporter": "python",
   "pygments_lexer": "ipython3",
   "version": "3.11.1"
  }
 },
 "nbformat": 4,
 "nbformat_minor": 5
}
