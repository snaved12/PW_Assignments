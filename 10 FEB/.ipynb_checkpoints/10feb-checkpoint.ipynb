{
 "cells": [
  {
   "cell_type": "markdown",
   "id": "ef01c040",
   "metadata": {},
   "source": [
    "Q1"
   ]
  },
  {
   "cell_type": "markdown",
   "id": "a9aa2eb5",
   "metadata": {},
   "source": [
    "In Python, the built-in function used to open a file is open().\n",
    "\n",
    "open() function takes two arguments: the file name (or path) and the mode in which the file is to be opened. The mode determines whether the file is opened for reading, writing, or appending, as well as whether the file is opened in text mode or binary mode.\n",
    "\n",
    "Here are the different modes of opening a file in Python:\n",
    "\n",
    "r mode: Read mode. It opens a file for reading only. An error is raised if the file does not exist. This is the default mode.\n",
    "\n",
    "w mode: Write mode. It opens a file for writing only. If the file already exists, its contents are truncated. If it doesn't exist, a new file is created.\n",
    "\n",
    "a mode: Append mode. It opens a file for writing, but the data is appended to the end of the file instead of overwriting it. If the file does not exist, a new file is created.\n",
    "\n",
    "x mode: Exclusive creation mode. It opens a file for exclusive creation. If the file already exists, an error is raised.\n",
    "\n",
    "b mode: Binary mode. It opens a file in binary mode.\n",
    "\n",
    "t mode: Text mode. It opens a file in text mode. This is the default mode.\n",
    "\n",
    "+ mode: Update mode. It opens a file for both reading and writing.\n",
    "\n",
    "To use the open() function, we can specify the file name and mode as arguments, for example:"
   ]
  },
  {
   "cell_type": "code",
   "execution_count": 1,
   "id": "feb78cf0",
   "metadata": {},
   "outputs": [
    {
     "ename": "FileNotFoundError",
     "evalue": "[Errno 2] No such file or directory: 'file.txt'",
     "output_type": "error",
     "traceback": [
      "\u001b[1;31m---------------------------------------------------------------------------\u001b[0m",
      "\u001b[1;31mFileNotFoundError\u001b[0m                         Traceback (most recent call last)",
      "Cell \u001b[1;32mIn[1], line 1\u001b[0m\n\u001b[1;32m----> 1\u001b[0m f \u001b[38;5;241m=\u001b[39m \u001b[38;5;28;43mopen\u001b[39;49m\u001b[43m(\u001b[49m\u001b[38;5;124;43m'\u001b[39;49m\u001b[38;5;124;43mfile.txt\u001b[39;49m\u001b[38;5;124;43m'\u001b[39;49m\u001b[43m,\u001b[49m\u001b[43m \u001b[49m\u001b[38;5;124;43m'\u001b[39;49m\u001b[38;5;124;43mr\u001b[39;49m\u001b[38;5;124;43m'\u001b[39;49m\u001b[43m)\u001b[49m \u001b[38;5;66;03m# opens file.txt in read mode\u001b[39;00m\n\u001b[0;32m      2\u001b[0m f\u001b[38;5;241m.\u001b[39mclose()\n",
      "File \u001b[1;32m~\\AppData\\Local\\Programs\\Python\\Python311\\Lib\\site-packages\\IPython\\core\\interactiveshell.py:282\u001b[0m, in \u001b[0;36m_modified_open\u001b[1;34m(file, *args, **kwargs)\u001b[0m\n\u001b[0;32m    275\u001b[0m \u001b[38;5;28;01mif\u001b[39;00m file \u001b[38;5;129;01min\u001b[39;00m {\u001b[38;5;241m0\u001b[39m, \u001b[38;5;241m1\u001b[39m, \u001b[38;5;241m2\u001b[39m}:\n\u001b[0;32m    276\u001b[0m     \u001b[38;5;28;01mraise\u001b[39;00m \u001b[38;5;167;01mValueError\u001b[39;00m(\n\u001b[0;32m    277\u001b[0m         \u001b[38;5;124mf\u001b[39m\u001b[38;5;124m\"\u001b[39m\u001b[38;5;124mIPython won\u001b[39m\u001b[38;5;124m'\u001b[39m\u001b[38;5;124mt let you open fd=\u001b[39m\u001b[38;5;132;01m{\u001b[39;00mfile\u001b[38;5;132;01m}\u001b[39;00m\u001b[38;5;124m by default \u001b[39m\u001b[38;5;124m\"\u001b[39m\n\u001b[0;32m    278\u001b[0m         \u001b[38;5;124m\"\u001b[39m\u001b[38;5;124mas it is likely to crash IPython. If you know what you are doing, \u001b[39m\u001b[38;5;124m\"\u001b[39m\n\u001b[0;32m    279\u001b[0m         \u001b[38;5;124m\"\u001b[39m\u001b[38;5;124myou can use builtins\u001b[39m\u001b[38;5;124m'\u001b[39m\u001b[38;5;124m open.\u001b[39m\u001b[38;5;124m\"\u001b[39m\n\u001b[0;32m    280\u001b[0m     )\n\u001b[1;32m--> 282\u001b[0m \u001b[38;5;28;01mreturn\u001b[39;00m \u001b[43mio_open\u001b[49m\u001b[43m(\u001b[49m\u001b[43mfile\u001b[49m\u001b[43m,\u001b[49m\u001b[43m \u001b[49m\u001b[38;5;241;43m*\u001b[39;49m\u001b[43margs\u001b[49m\u001b[43m,\u001b[49m\u001b[43m \u001b[49m\u001b[38;5;241;43m*\u001b[39;49m\u001b[38;5;241;43m*\u001b[39;49m\u001b[43mkwargs\u001b[49m\u001b[43m)\u001b[49m\n",
      "\u001b[1;31mFileNotFoundError\u001b[0m: [Errno 2] No such file or directory: 'file.txt'"
     ]
    }
   ],
   "source": [
    "f = open('file.txt', 'r') # opens file.txt in read mode\n",
    "f.close()\n"
   ]
  },
  {
   "cell_type": "markdown",
   "id": "bfea9809",
   "metadata": {},
   "source": [
    "Q2"
   ]
  },
  {
   "cell_type": "markdown",
   "id": "c7bc1b43",
   "metadata": {},
   "source": [
    "In Python, the close() function is used to close a file that was opened with the open() function.\n",
    "\n",
    "It's important to close a file after it has been opened because:\n",
    "\n",
    "It frees up system resources: When a file is opened, the operating system allocates system resources to that file, such as memory and file handles. If the file is not closed, these resources may not be released, which can cause performance issues or even system crashes in some cases.\n",
    "\n",
    "It ensures data consistency: When we write to a file, the data is often buffered in memory before it is written to disk. If the file is not closed, there is a risk that the data may not be written to disk, which can result in data corruption or loss.\n",
    "\n",
    "It allows other processes to access the file: When a file is opened, it may be locked by the operating system so that other processes cannot access it. If the file is not closed, it will remain locked, preventing other processes from accessing it.\n",
    "\n",
    "To close a file, we can simply call the close() method on the file object, like this:"
   ]
  },
  {
   "cell_type": "code",
   "execution_count": 3,
   "id": "3cf76e75",
   "metadata": {},
   "outputs": [
    {
     "ename": "FileNotFoundError",
     "evalue": "[Errno 2] No such file or directory: 'file.txt'",
     "output_type": "error",
     "traceback": [
      "\u001b[1;31m---------------------------------------------------------------------------\u001b[0m",
      "\u001b[1;31mFileNotFoundError\u001b[0m                         Traceback (most recent call last)",
      "Cell \u001b[1;32mIn[3], line 1\u001b[0m\n\u001b[1;32m----> 1\u001b[0m f \u001b[38;5;241m=\u001b[39m \u001b[38;5;28;43mopen\u001b[39;49m\u001b[43m(\u001b[49m\u001b[38;5;124;43m\"\u001b[39;49m\u001b[38;5;124;43mfile.txt\u001b[39;49m\u001b[38;5;124;43m\"\u001b[39;49m\u001b[43m,\u001b[49m\u001b[43m \u001b[49m\u001b[38;5;124;43m\"\u001b[39;49m\u001b[38;5;124;43mr\u001b[39;49m\u001b[38;5;124;43m\"\u001b[39;49m\u001b[43m)\u001b[49m\n\u001b[0;32m      2\u001b[0m \u001b[38;5;66;03m# do something with the file...\u001b[39;00m\n\u001b[0;32m      3\u001b[0m f\u001b[38;5;241m.\u001b[39mclose()\n",
      "File \u001b[1;32m~\\AppData\\Local\\Programs\\Python\\Python311\\Lib\\site-packages\\IPython\\core\\interactiveshell.py:282\u001b[0m, in \u001b[0;36m_modified_open\u001b[1;34m(file, *args, **kwargs)\u001b[0m\n\u001b[0;32m    275\u001b[0m \u001b[38;5;28;01mif\u001b[39;00m file \u001b[38;5;129;01min\u001b[39;00m {\u001b[38;5;241m0\u001b[39m, \u001b[38;5;241m1\u001b[39m, \u001b[38;5;241m2\u001b[39m}:\n\u001b[0;32m    276\u001b[0m     \u001b[38;5;28;01mraise\u001b[39;00m \u001b[38;5;167;01mValueError\u001b[39;00m(\n\u001b[0;32m    277\u001b[0m         \u001b[38;5;124mf\u001b[39m\u001b[38;5;124m\"\u001b[39m\u001b[38;5;124mIPython won\u001b[39m\u001b[38;5;124m'\u001b[39m\u001b[38;5;124mt let you open fd=\u001b[39m\u001b[38;5;132;01m{\u001b[39;00mfile\u001b[38;5;132;01m}\u001b[39;00m\u001b[38;5;124m by default \u001b[39m\u001b[38;5;124m\"\u001b[39m\n\u001b[0;32m    278\u001b[0m         \u001b[38;5;124m\"\u001b[39m\u001b[38;5;124mas it is likely to crash IPython. If you know what you are doing, \u001b[39m\u001b[38;5;124m\"\u001b[39m\n\u001b[0;32m    279\u001b[0m         \u001b[38;5;124m\"\u001b[39m\u001b[38;5;124myou can use builtins\u001b[39m\u001b[38;5;124m'\u001b[39m\u001b[38;5;124m open.\u001b[39m\u001b[38;5;124m\"\u001b[39m\n\u001b[0;32m    280\u001b[0m     )\n\u001b[1;32m--> 282\u001b[0m \u001b[38;5;28;01mreturn\u001b[39;00m \u001b[43mio_open\u001b[49m\u001b[43m(\u001b[49m\u001b[43mfile\u001b[49m\u001b[43m,\u001b[49m\u001b[43m \u001b[49m\u001b[38;5;241;43m*\u001b[39;49m\u001b[43margs\u001b[49m\u001b[43m,\u001b[49m\u001b[43m \u001b[49m\u001b[38;5;241;43m*\u001b[39;49m\u001b[38;5;241;43m*\u001b[39;49m\u001b[43mkwargs\u001b[49m\u001b[43m)\u001b[49m\n",
      "\u001b[1;31mFileNotFoundError\u001b[0m: [Errno 2] No such file or directory: 'file.txt'"
     ]
    }
   ],
   "source": [
    "f = open(\"file.txt\", \"r\")\n",
    "# do something with the file...\n",
    "f.close()\n"
   ]
  },
  {
   "cell_type": "markdown",
   "id": "99a46e47",
   "metadata": {},
   "source": [
    "Q3"
   ]
  },
  {
   "cell_type": "code",
   "execution_count": 4,
   "id": "2b401acd",
   "metadata": {},
   "outputs": [
    {
     "name": "stdout",
     "output_type": "stream",
     "text": [
      "I want to become a Data Scientist\n"
     ]
    }
   ],
   "source": [
    "# Open file in write mode\n",
    "file = open(\"data.txt\", \"w\")\n",
    "\n",
    "# Write to file\n",
    "file.write(\"I want to become a Data Scientist\")\n",
    "\n",
    "# Close file\n",
    "file.close()\n",
    "\n",
    "# Open file in read mode\n",
    "file = open(\"data.txt\", \"r\")\n",
    "\n",
    "# Read file contents\n",
    "content = file.read()\n",
    "\n",
    "# Close file\n",
    "file.close()\n",
    "\n",
    "# Print file contents\n",
    "print(content)"
   ]
  },
  {
   "cell_type": "markdown",
   "id": "e4305778",
   "metadata": {},
   "source": [
    "Q4"
   ]
  },
  {
   "cell_type": "markdown",
   "id": "88323fe6",
   "metadata": {},
   "source": [
    "In Python, there are three different methods we can use to read data from a file: read(), readline(), and readlines(). Here's an explanation of each method, along with some example code:\n",
    "\n",
    "read(): This method reads the entire contents of a file as a string."
   ]
  },
  {
   "cell_type": "code",
   "execution_count": 5,
   "id": "3f47d26e",
   "metadata": {},
   "outputs": [
    {
     "name": "stdout",
     "output_type": "stream",
     "text": [
      "I want to become a Data Scientist\n"
     ]
    }
   ],
   "source": [
    "# Open file in read mode\n",
    "file = open(\"data.txt\", \"r\")\n",
    "\n",
    "# Read entire file contents as a string\n",
    "content = file.read()\n",
    "\n",
    "# Close file\n",
    "file.close()\n",
    "\n",
    "# Print file contents\n",
    "print(content)\n"
   ]
  },
  {
   "cell_type": "markdown",
   "id": "a74b8bf6",
   "metadata": {},
   "source": [
    "In this example, we open a file called \"data.txt\" in read mode using the open() function. We then use the read() method to read the entire contents of the file as a string, and we store the result in a variable called content. We then close the file using the close() method, and we print the contents of the file to the console using the print() function.\n",
    "\n",
    "readline(): This method reads a single line of text from a file."
   ]
  },
  {
   "cell_type": "code",
   "execution_count": 6,
   "id": "871d6358",
   "metadata": {},
   "outputs": [
    {
     "name": "stdout",
     "output_type": "stream",
     "text": [
      "I want to become a Data Scientist\n"
     ]
    }
   ],
   "source": [
    "# Open file in read mode\n",
    "file = open(\"data.txt\", \"r\")\n",
    "\n",
    "# Read first line of file as a string\n",
    "line = file.readline()\n",
    "\n",
    "# Close file\n",
    "file.close()\n",
    "\n",
    "# Print first line of file\n",
    "print(line)\n"
   ]
  },
  {
   "cell_type": "markdown",
   "id": "35e05f44",
   "metadata": {},
   "source": [
    "In this example, we open a file called \"data.txt\" in read mode using the open() function. We then use the readline() method to read the first line of text from the file, and we store the result in a variable called line. We then close the file using the close() method, and we print the first line of the file to the console using the print() function.\n",
    "\n",
    "readlines(): This method reads all the lines of text from a file and returns them as a list of strings."
   ]
  },
  {
   "cell_type": "code",
   "execution_count": 7,
   "id": "a8e82d2b",
   "metadata": {},
   "outputs": [
    {
     "name": "stdout",
     "output_type": "stream",
     "text": [
      "I want to become a Data Scientist\n"
     ]
    }
   ],
   "source": [
    "# Open file in read mode\n",
    "file = open(\"data.txt\", \"r\")\n",
    "\n",
    "# Read all lines of file as a list of strings\n",
    "lines = file.readlines()\n",
    "\n",
    "# Close file\n",
    "file.close()\n",
    "\n",
    "# Print all lines of file\n",
    "for line in lines:\n",
    "    print(line)\n"
   ]
  },
  {
   "cell_type": "markdown",
   "id": "af6db1fc",
   "metadata": {},
   "source": [
    "In this example, we open a file called \"data.txt\" in read mode using the open() function. We then use the readlines() method to read all the lines of text from the file, and we store the result in a variable called lines. We then close the file using the close() method, and we loop through the list of strings using a for loop, printing each line to the console using the print() function."
   ]
  },
  {
   "cell_type": "markdown",
   "id": "45ae68d2",
   "metadata": {},
   "source": [
    "Q5"
   ]
  },
  {
   "cell_type": "markdown",
   "id": "cc068a55",
   "metadata": {},
   "source": [
    "In Python, the with statement is used in conjunction with the open() function to ensure that files are properly closed after they have been used. When we use the with statement, we don't need to explicitly call the close() method, as the with statement takes care of closing the file automatically.\n",
    "\n",
    "Here's an example of how to use the with statement and the open() function together:"
   ]
  },
  {
   "cell_type": "code",
   "execution_count": 8,
   "id": "8dc0b469",
   "metadata": {},
   "outputs": [
    {
     "name": "stdout",
     "output_type": "stream",
     "text": [
      "I want to become a Data Scientist\n"
     ]
    }
   ],
   "source": [
    "# Open file in read mode using with statement\n",
    "with open(\"data.txt\", \"r\") as file:\n",
    "\n",
    "    # Read entire file contents as a string\n",
    "    content = file.read()\n",
    "\n",
    "    # Print file contents\n",
    "    print(content)\n"
   ]
  },
  {
   "cell_type": "markdown",
   "id": "d831aa40",
   "metadata": {},
   "source": [
    "In this example, we use the with statement to open a file called \"data.txt\" in read mode. We then use the read() method to read the entire contents of the file as a string, and we store the result in a variable called content. We then print the contents of the file to the console using the print() function.\n",
    "\n",
    "The advantage of using the with statement and open() together is that it ensures that the file is always closed after it has been used, even if an error occurs while the file is being read or written. This can help to prevent errors and bugs in our code, and it can make our code more concise and easier to read.\n",
    "\n",
    "In summary, using the with statement and open() function together provides a convenient and safe way to work with files in Python."
   ]
  },
  {
   "cell_type": "markdown",
   "id": "9a4af500",
   "metadata": {},
   "source": [
    "Q6"
   ]
  },
  {
   "cell_type": "markdown",
   "id": "67e658b0",
   "metadata": {},
   "source": [
    "In Python, the write() and writelines() functions are used to write data to a file. Here's an explanation of each function, along with some example code:\n",
    "\n",
    "write(): This method writes a string of data to a file."
   ]
  },
  {
   "cell_type": "code",
   "execution_count": 9,
   "id": "3fafbf62",
   "metadata": {},
   "outputs": [],
   "source": [
    "# Open file in write mode\n",
    "file = open(\"data.txt\", \"w\")\n",
    "\n",
    "# Write data to file\n",
    "file.write(\"I want to become a Data Scientist.\")\n",
    "\n",
    "# Close file\n",
    "file.close()\n"
   ]
  },
  {
   "cell_type": "markdown",
   "id": "06644dcd",
   "metadata": {},
   "source": [
    "In this example, we open a file called \"data.txt\" in write mode using the open() function. We then use the write() method to write the string \"I want to become a Data Scientist.\" to the file. We then close the file using the close() method.\n",
    "\n",
    "If the file doesn't exist, it will be created. If the file exists, the old data in it will be overwritten by the new data.\n",
    "\n",
    "writelines(): This method writes a list of strings to a file."
   ]
  },
  {
   "cell_type": "code",
   "execution_count": 10,
   "id": "088a3c69",
   "metadata": {},
   "outputs": [],
   "source": [
    "# Open file in write mode\n",
    "file = open(\"data.txt\", \"w\")\n",
    "\n",
    "# Write list of strings to file\n",
    "lines = [\"I want to become\", \"a Data Scientist.\"]\n",
    "file.writelines(lines)\n",
    "\n",
    "# Close file\n",
    "file.close()\n"
   ]
  },
  {
   "cell_type": "markdown",
   "id": "8af11575",
   "metadata": {},
   "source": [
    "In this example, we open a file called \"data.txt\" in write mode using the open() function. We then define a list of strings called lines, and we use the writelines() method to write each string in the list to the file. We then close the file using the close() method.\n",
    "\n",
    "If the file doesn't exist, it will be created. If the file exists, the old data in it will be overwritten by the new data.\n",
    "\n",
    "In summary, the write() and writelines() functions are useful for writing data to files in Python. They provide a convenient and straightforward way to create and modify text files."
   ]
  },
  {
   "cell_type": "code",
   "execution_count": null,
   "id": "f908f3f1",
   "metadata": {},
   "outputs": [],
   "source": []
  }
 ],
 "metadata": {
  "kernelspec": {
   "display_name": "Python 3 (ipykernel)",
   "language": "python",
   "name": "python3"
  },
  "language_info": {
   "codemirror_mode": {
    "name": "ipython",
    "version": 3
   },
   "file_extension": ".py",
   "mimetype": "text/x-python",
   "name": "python",
   "nbconvert_exporter": "python",
   "pygments_lexer": "ipython3",
   "version": "3.11.1"
  }
 },
 "nbformat": 4,
 "nbformat_minor": 5
}
