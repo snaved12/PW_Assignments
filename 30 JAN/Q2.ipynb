{
 "cells": [
  {
   "cell_type": "code",
   "execution_count": 7,
   "id": "7b3a74a0",
   "metadata": {},
   "outputs": [
    {
     "name": "stdout",
     "output_type": "stream",
     "text": [
      "Enter Cost Price of Bike\n",
      "-9\n",
      "Tax=5%\n",
      "Tax value= -0.45\n"
     ]
    }
   ],
   "source": [
    "print(\"Enter Cost Price of Bike\")\n",
    "cost=float(input())\n",
    "if cost>100000:\n",
    "    print(\"Tax=15%\")\n",
    "    print(\"Tax value=\",cost*0.15)\n",
    "elif cost>50000 and cost<=100000:\n",
    "    print(\"Tax=10%\")\n",
    "    print(\"Tax value=\",cost*0.10)\n",
    "elif cost<=50000:\n",
    "    print(\"Tax=5%\")\n",
    "    print(\"Tax value=\",cost*0.05)\n",
    "else:\n",
    "    print(\"Enter valid cost\")"
   ]
  },
  {
   "cell_type": "code",
   "execution_count": null,
   "id": "ccab13cd",
   "metadata": {},
   "outputs": [],
   "source": []
  }
 ],
 "metadata": {
  "kernelspec": {
   "display_name": "Python 3 (ipykernel)",
   "language": "python",
   "name": "python3"
  },
  "language_info": {
   "codemirror_mode": {
    "name": "ipython",
    "version": 3
   },
   "file_extension": ".py",
   "mimetype": "text/x-python",
   "name": "python",
   "nbconvert_exporter": "python",
   "pygments_lexer": "ipython3",
   "version": "3.11.1"
  }
 },
 "nbformat": 4,
 "nbformat_minor": 5
}
