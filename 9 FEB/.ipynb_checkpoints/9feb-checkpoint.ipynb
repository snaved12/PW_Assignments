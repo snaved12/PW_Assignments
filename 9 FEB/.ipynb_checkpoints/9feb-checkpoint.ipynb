{
 "cells": [
  {
   "cell_type": "markdown",
   "id": "1728e35e",
   "metadata": {},
   "source": [
    "Q1"
   ]
  },
  {
   "cell_type": "code",
   "execution_count": 1,
   "id": "20c82b7c",
   "metadata": {},
   "outputs": [
    {
     "name": "stdout",
     "output_type": "stream",
     "text": [
      "Toyota Camry\n",
      "120\n",
      "30\n"
     ]
    }
   ],
   "source": [
    "class Vehicle:\n",
    "    def __init__(self, name_of_vehicle, max_speed, average_of_vehicle):\n",
    "        self.name_of_vehicle = name_of_vehicle\n",
    "        self.max_speed = max_speed\n",
    "        self.average_of_vehicle = average_of_vehicle\n",
    "\n",
    "car = Vehicle('Toyota Camry', 120, 30)\n",
    "print(car.name_of_vehicle)  # output: \"Toyota Camry\"\n",
    "print(car.max_speed)  # output: 120\n",
    "print(car.average_of_vehicle)  # output: 30\n"
   ]
  },
  {
   "cell_type": "markdown",
   "id": "07870809",
   "metadata": {},
   "source": [
    "Q2"
   ]
  },
  {
   "cell_type": "code",
   "execution_count": 8,
   "id": "18b77e14",
   "metadata": {},
   "outputs": [
    {
     "name": "stdout",
     "output_type": "stream",
     "text": [
      "Toyota Corolla has a seating capacity of 5 people.\n"
     ]
    }
   ],
   "source": [
    "class Car(Vehicle):\n",
    "    def seating_capacity(self, capacity):\n",
    "        return f\"{self.name_of_vehicle} has a seating capacity of {capacity} people.\"\n",
    "my_car = Car(\"Toyota Corolla\", 120, 25)\n",
    "print(my_car.seating_capacity(5))  # output: \"Toyota Corolla has a seating capacity of 5 people.\"\n",
    "    "
   ]
  },
  {
   "cell_type": "markdown",
   "id": "f41fff1d",
   "metadata": {},
   "source": [
    "Q3"
   ]
  },
  {
   "cell_type": "markdown",
   "id": "61b003d4",
   "metadata": {},
   "source": [
    "Multiple inheritance is a feature in object-oriented programming where a class can inherit from multiple base classes. This means that a child class can inherit attributes and methods from multiple parent classes, which allows for more flexible and modular code design.\n",
    "\n",
    "Here's an example of how to use multiple inheritance in Python:"
   ]
  },
  {
   "cell_type": "code",
   "execution_count": 4,
   "id": "d68649c2",
   "metadata": {},
   "outputs": [
    {
     "name": "stdout",
     "output_type": "stream",
     "text": [
      "Fruit Bat is flying.\n",
      "Fruit Bat is running.\n",
      "Echolocation!\n"
     ]
    }
   ],
   "source": [
    "class Animal:\n",
    "    def __init__(self, name):\n",
    "        self.name = name\n",
    "    \n",
    "    def speak(self):\n",
    "        pass\n",
    "    \n",
    "class Mammal(Animal):\n",
    "    def __init__(self, name):\n",
    "        super().__init__(name)\n",
    "        \n",
    "    def run(self):\n",
    "        print(f\"{self.name} is running.\")\n",
    "        \n",
    "class Bird(Animal):\n",
    "    def __init__(self, name):\n",
    "        super().__init__(name)\n",
    "        \n",
    "    def fly(self):\n",
    "        print(f\"{self.name} is flying.\")\n",
    "        \n",
    "class Bat(Mammal, Bird):\n",
    "    def __init__(self, name):\n",
    "        super().__init__(name)\n",
    "        \n",
    "    def speak(self):\n",
    "        print(\"Echolocation!\")\n",
    "\n",
    "my_bat = Bat('Fruit Bat')\n",
    "my_bat.fly()  # output: \"Fruit Bat is flying.\"\n",
    "my_bat.run()  # output: \"Fruit Bat is running.\"\n",
    "my_bat.speak()  # output: \"Echolocation!\"\n",
    "        "
   ]
  },
  {
   "cell_type": "markdown",
   "id": "8db4c11a",
   "metadata": {},
   "source": [
    "Q4"
   ]
  },
  {
   "cell_type": "markdown",
   "id": "915a7081",
   "metadata": {},
   "source": [
    "In Python, getters and setters are methods used to access and modify the attributes of an object, respectively. Getters are methods that are used to access the value of an attribute, while setters are methods used to modify the value of an attribute.\n",
    "\n",
    "Here's an example of how to create a class with getter and setter methods in Python:"
   ]
  },
  {
   "cell_type": "code",
   "execution_count": 5,
   "id": "d353dece",
   "metadata": {},
   "outputs": [
    {
     "name": "stdout",
     "output_type": "stream",
     "text": [
      "30\n",
      "40\n"
     ]
    },
    {
     "ename": "ValueError",
     "evalue": "Age cannot be negative.",
     "output_type": "error",
     "traceback": [
      "\u001b[1;31m---------------------------------------------------------------------------\u001b[0m",
      "\u001b[1;31mValueError\u001b[0m                                Traceback (most recent call last)",
      "Cell \u001b[1;32mIn[5], line 21\u001b[0m\n\u001b[0;32m     18\u001b[0m person\u001b[38;5;241m.\u001b[39mset_age(\u001b[38;5;241m40\u001b[39m)\n\u001b[0;32m     19\u001b[0m \u001b[38;5;28mprint\u001b[39m(person\u001b[38;5;241m.\u001b[39mget_age())  \u001b[38;5;66;03m# output: 40\u001b[39;00m\n\u001b[1;32m---> 21\u001b[0m \u001b[43mperson\u001b[49m\u001b[38;5;241;43m.\u001b[39;49m\u001b[43mset_age\u001b[49m\u001b[43m(\u001b[49m\u001b[38;5;241;43m-\u001b[39;49m\u001b[38;5;241;43m5\u001b[39;49m\u001b[43m)\u001b[49m  \u001b[38;5;66;03m# raises ValueError: \"Age cannot be negative.\"\u001b[39;00m\n",
      "Cell \u001b[1;32mIn[5], line 13\u001b[0m, in \u001b[0;36mPerson.set_age\u001b[1;34m(self, age)\u001b[0m\n\u001b[0;32m     11\u001b[0m     \u001b[38;5;28mself\u001b[39m\u001b[38;5;241m.\u001b[39mage \u001b[38;5;241m=\u001b[39m age\n\u001b[0;32m     12\u001b[0m \u001b[38;5;28;01melse\u001b[39;00m:\n\u001b[1;32m---> 13\u001b[0m     \u001b[38;5;28;01mraise\u001b[39;00m \u001b[38;5;167;01mValueError\u001b[39;00m(\u001b[38;5;124m\"\u001b[39m\u001b[38;5;124mAge cannot be negative.\u001b[39m\u001b[38;5;124m\"\u001b[39m)\n",
      "\u001b[1;31mValueError\u001b[0m: Age cannot be negative."
     ]
    }
   ],
   "source": [
    "class Person:\n",
    "    def __init__(self, name, age):\n",
    "        self.name = name\n",
    "        self.age = age\n",
    "        \n",
    "    def get_age(self):\n",
    "        return self.age\n",
    "    \n",
    "    def set_age(self, age):\n",
    "        if age >= 0:\n",
    "            self.age = age\n",
    "        else:\n",
    "            raise ValueError(\"Age cannot be negative.\")\n",
    "\n",
    "person = Person(\"John\", 30)\n",
    "print(person.get_age())  # output: 30\n",
    "\n",
    "person.set_age(40)\n",
    "print(person.get_age())  # output: 40\n",
    "\n",
    "person.set_age(-5)  # raises ValueError: \"Age cannot be negative.\"\n",
    "            "
   ]
  },
  {
   "cell_type": "markdown",
   "id": "3c823213",
   "metadata": {},
   "source": [
    "In this example, we create an instance of the Person class with a name of \"John\" and an age of 30. We then call the get_age method to retrieve the value of the age attribute, which returns 30. We then call the set_age method to modify the value of the age attribute to 40, and call get_age again to retrieve the updated value, which returns 40. Finally, we try to set the age to a negative value, which raises a ValueError with a custom message."
   ]
  },
  {
   "cell_type": "markdown",
   "id": "9db7b57f",
   "metadata": {},
   "source": [
    "Q5"
   ]
  },
  {
   "cell_type": "markdown",
   "id": "be076c26",
   "metadata": {},
   "source": [
    "Method overriding is a feature of object-oriented programming where a subclass provides its own implementation of a method that is already defined in its parent class. This allows the subclass to customize the behavior of the method without changing the original implementation in the parent class.\n",
    "\n",
    "Here's an example of how to use method overriding in Python:"
   ]
  },
  {
   "cell_type": "code",
   "execution_count": 6,
   "id": "2bfa2de5",
   "metadata": {},
   "outputs": [
    {
     "name": "stdout",
     "output_type": "stream",
     "text": [
      "The dog is barking.\n",
      "The cat is meowing.\n"
     ]
    }
   ],
   "source": [
    "class Animal:\n",
    "    def speak(self):\n",
    "        print(\"The animal is making a sound.\")\n",
    "        \n",
    "class Dog(Animal):\n",
    "    def speak(self):\n",
    "        print(\"The dog is barking.\")\n",
    "        \n",
    "class Cat(Animal):\n",
    "    def speak(self):\n",
    "        print(\"The cat is meowing.\")\n",
    "my_dog = Dog()\n",
    "my_dog.speak()  # output: \"The dog is barking.\"\n",
    "\n",
    "my_cat = Cat()\n",
    "my_cat.speak()  # output: \"The cat is meowing.\"\n"
   ]
  },
  {
   "cell_type": "code",
   "execution_count": null,
   "id": "9687b167",
   "metadata": {},
   "outputs": [],
   "source": []
  }
 ],
 "metadata": {
  "kernelspec": {
   "display_name": "Python 3 (ipykernel)",
   "language": "python",
   "name": "python3"
  },
  "language_info": {
   "codemirror_mode": {
    "name": "ipython",
    "version": 3
   },
   "file_extension": ".py",
   "mimetype": "text/x-python",
   "name": "python",
   "nbconvert_exporter": "python",
   "pygments_lexer": "ipython3",
   "version": "3.11.1"
  }
 },
 "nbformat": 4,
 "nbformat_minor": 5
}
